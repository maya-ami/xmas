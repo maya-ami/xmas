{
 "cells": [
  {
   "cell_type": "code",
   "execution_count": 18,
   "id": "a43082b4",
   "metadata": {},
   "outputs": [],
   "source": [
    "# !pip install python-docx\n",
    "# 0.8.11"
   ]
  },
  {
   "cell_type": "code",
   "execution_count": 78,
   "id": "0cb5b584",
   "metadata": {},
   "outputs": [],
   "source": [
    "# !pip install PyPDF2\n",
    "# 2-2.12.1"
   ]
  },
  {
   "cell_type": "code",
   "execution_count": 79,
   "id": "d1df2a41",
   "metadata": {},
   "outputs": [],
   "source": [
    "# brew update\n",
    "# brew install --cask libreoffice"
   ]
  },
  {
   "cell_type": "code",
   "execution_count": 131,
   "id": "eab8ee4e",
   "metadata": {},
   "outputs": [
    {
     "name": "stdout",
     "output_type": "stream",
     "text": [
      "Collecting striprtf\n",
      "  Downloading striprtf-0.0.22-py3-none-any.whl (6.9 kB)\n",
      "Installing collected packages: striprtf\n",
      "Successfully installed striprtf-0.0.22\n"
     ]
    }
   ],
   "source": [
    "# !pip install striprtf\n",
    "# 0.0.22"
   ]
  },
  {
   "cell_type": "code",
   "execution_count": 200,
   "id": "4e129f26",
   "metadata": {},
   "outputs": [],
   "source": [
    "import pandas as pd\n",
    "import numpy as np\n",
    "import json\n",
    "import os\n",
    "import re\n",
    "import docx\n",
    "\n",
    "from sklearn.neighbors import KNeighborsClassifier\n",
    "from sklearn.linear_model import SGDClassifier\n",
    "from sklearn.ensemble import RandomForestClassifier\n",
    "\n",
    "from sklearn.model_selection import cross_val_score, StratifiedKFold, KFold, train_test_split\n",
    "from sklearn.metrics import classification_report, accuracy_score, precision_score, recall_score, f1_score\n",
    "from sklearn.feature_extraction.text import TfidfVectorizer\n",
    "from xgboost import XGBClassifier\n",
    "import pickle\n",
    "\n",
    "from pymystem3 import Mystem\n",
    "import nltk\n",
    "from nltk.tokenize import ToktokTokenizer\n",
    "from nltk.corpus import stopwords\n",
    "from nltk.stem.snowball import RussianStemmer\n",
    "\n",
    "import seaborn as sns\n",
    "import matplotlib.pyplot as plt\n",
    "%matplotlib inline"
   ]
  },
  {
   "cell_type": "code",
   "execution_count": 174,
   "id": "1b94ccb7",
   "metadata": {},
   "outputs": [],
   "source": [
    "def getText(filename):\n",
    "    doc = docx.Document(filename)\n",
    "    fullText = []\n",
    "    for para in doc.paragraphs:\n",
    "        fullText.append(para.text)\n",
    "    return '\\n'.join(fullText)"
   ]
  },
  {
   "cell_type": "code",
   "execution_count": 261,
   "id": "1f49eb35",
   "metadata": {},
   "outputs": [],
   "source": [
    "# Проведем очистку данных: стемминг, единый регистр, удалим знаки препинания, цифры и т.п.\n",
    "\n",
    "def preprocess(line):\n",
    "    \"\"\"\n",
    "    Функция предобработки текста:\n",
    "    - очищает текст от цифр и лишних знаков препинания,\n",
    "    - удаляет короткие слова (состоящие из 1 буквы),\n",
    "    - удаяет стоп-слова,\n",
    "    - проводит лемматизацию\n",
    "    \"\"\"\n",
    "    char_regex = re.compile(r'[^а-яa-z]')\n",
    "    line = char_regex.sub(' ', line.lower())\n",
    "    \n",
    "    short_words = re.compile(r'\\b[а-яa-z]{1}\\b')\n",
    "    line = short_words.sub(' ', line.lower())\n",
    "    \n",
    "    tokenized = toktok.tokenize(line)\n",
    "    stemmed_str = []\n",
    "    for i in tokenized:\n",
    "        if i not in russian_stopwords:\n",
    "            lemma = m.lemmatize(i)[0]\n",
    "            stemmed_str.append(str(lemma))\n",
    "#         stemmed = stemmer.stem(i)\n",
    "#         stemmed_str += str(stemmed + ' ')\n",
    "    return ' '.join(stemmed_str)"
   ]
  },
  {
   "cell_type": "code",
   "execution_count": 117,
   "id": "ca2cb476",
   "metadata": {},
   "outputs": [],
   "source": [
    "DOC_PATH = '/Users/mayabikmetova/xmas/hacka-aka-embedika/docs'"
   ]
  },
  {
   "cell_type": "code",
   "execution_count": 69,
   "id": "fd27eaf8",
   "metadata": {},
   "outputs": [],
   "source": [
    "a = getText('hacka-aka-embedika/docs/03a70fe60be9ecc2a63798a361fc9689.docx')"
   ]
  },
  {
   "cell_type": "code",
   "execution_count": null,
   "id": "696a8172",
   "metadata": {},
   "outputs": [],
   "source": []
  },
  {
   "cell_type": "code",
   "execution_count": 19,
   "id": "0ae20415",
   "metadata": {},
   "outputs": [],
   "source": [
    "m = Mystem()"
   ]
  },
  {
   "cell_type": "code",
   "execution_count": 23,
   "id": "4e3a64b8",
   "metadata": {},
   "outputs": [],
   "source": [
    "russian_stopwords = nltk.corpus.stopwords.words('russian')"
   ]
  },
  {
   "cell_type": "code",
   "execution_count": 66,
   "id": "d914b597",
   "metadata": {},
   "outputs": [],
   "source": [
    "russian_stopwords.append('страница')"
   ]
  },
  {
   "cell_type": "code",
   "execution_count": 14,
   "id": "3e8316ed",
   "metadata": {},
   "outputs": [],
   "source": [
    "toktok = ToktokTokenizer()\n",
    "stemmer = RussianStemmer()"
   ]
  },
  {
   "cell_type": "code",
   "execution_count": 60,
   "id": "520b4000",
   "metadata": {
    "scrolled": true
   },
   "outputs": [],
   "source": [
    "from PyPDF2 import PdfReader\n",
    "\n",
    "reader = PdfReader(\"hacka-aka-embedika/docs/f57fe87f15a6dee2b17e804421be63b5.pdf\")\n",
    "# количество страниц\n",
    "num_pages = reader.getNumPages()\n",
    "text_pages = []\n",
    "\n",
    "for i in range(num_pages):\n",
    "    page = reader.pages[i].extract_text()\n",
    "    text_pages.append(page)"
   ]
  },
  {
   "cell_type": "code",
   "execution_count": 63,
   "id": "fd98af7d",
   "metadata": {},
   "outputs": [],
   "source": [
    "pdf_text = ''.join(text_pages)"
   ]
  },
  {
   "cell_type": "code",
   "execution_count": 87,
   "id": "1144f7f9",
   "metadata": {},
   "outputs": [
    {
     "name": "stdout",
     "output_type": "stream",
     "text": [
      "/Users/mayabikmetova/xmas\r\n"
     ]
    }
   ],
   "source": [
    "!pwd"
   ]
  },
  {
   "cell_type": "code",
   "execution_count": 81,
   "id": "aa7a8595",
   "metadata": {},
   "outputs": [],
   "source": [
    "doc = 'hacka-aka-embedika/docs/f8eabec67b770c384d84f9feb7e02543.doc'"
   ]
  },
  {
   "cell_type": "code",
   "execution_count": 86,
   "id": "e980a60e",
   "metadata": {},
   "outputs": [],
   "source": [
    "import subprocess"
   ]
  },
  {
   "cell_type": "code",
   "execution_count": 119,
   "id": "0f3bfef1",
   "metadata": {},
   "outputs": [
    {
     "data": {
      "text/plain": [
       "'/Users/mayabikmetova/xmas/hacka-aka-embedika/docs'"
      ]
     },
     "execution_count": 119,
     "metadata": {},
     "output_type": "execute_result"
    }
   ],
   "source": [
    "DOC_PATH"
   ]
  },
  {
   "cell_type": "code",
   "execution_count": 121,
   "id": "cd137b71",
   "metadata": {},
   "outputs": [
    {
     "name": "stdout",
     "output_type": "stream",
     "text": [
      "convert /Users/mayabikmetova/xmas/hacka-aka-embedika/docs/02682d726b725f95b9ee85f751c043d0.doc -> /Users/mayabikmetova/xmas/hacka-aka-embedika/docs/02682d726b725f95b9ee85f751c043d0.docx using filter : Office Open XML Text\n",
      "Конвертирован файл  02682d726b725f95b9ee85f751c043d0.doc\n",
      "convert /Users/mayabikmetova/xmas/hacka-aka-embedika/docs/2c81df29db63aebf495106881a52188f.doc -> /Users/mayabikmetova/xmas/hacka-aka-embedika/docs/2c81df29db63aebf495106881a52188f.docx using filter : Office Open XML Text\n",
      "Конвертирован файл  2c81df29db63aebf495106881a52188f.doc\n",
      "convert /Users/mayabikmetova/xmas/hacka-aka-embedika/docs/31d24c0d4694e7c2fb19933b84414b40.doc -> /Users/mayabikmetova/xmas/hacka-aka-embedika/docs/31d24c0d4694e7c2fb19933b84414b40.docx using filter : Office Open XML Text\n",
      "Конвертирован файл  31d24c0d4694e7c2fb19933b84414b40.doc\n",
      "convert /Users/mayabikmetova/xmas/hacka-aka-embedika/docs/57962abd8dbe0ce0c7056896ee4501f1.doc -> /Users/mayabikmetova/xmas/hacka-aka-embedika/docs/57962abd8dbe0ce0c7056896ee4501f1.docx using filter : Office Open XML Text\n",
      "Конвертирован файл  57962abd8dbe0ce0c7056896ee4501f1.doc\n",
      "convert /Users/mayabikmetova/xmas/hacka-aka-embedika/docs/97d4cf03b88c9e040557ab1b61e2e7a2.doc -> /Users/mayabikmetova/xmas/hacka-aka-embedika/docs/97d4cf03b88c9e040557ab1b61e2e7a2.docx using filter : Office Open XML Text\n",
      "Конвертирован файл  97d4cf03b88c9e040557ab1b61e2e7a2.doc\n",
      "convert /Users/mayabikmetova/xmas/hacka-aka-embedika/docs/bec0aa38d1383172690a18d16b07f154.doc -> /Users/mayabikmetova/xmas/hacka-aka-embedika/docs/bec0aa38d1383172690a18d16b07f154.docx using filter : Office Open XML Text\n",
      "Конвертирован файл  bec0aa38d1383172690a18d16b07f154.doc\n",
      "convert /Users/mayabikmetova/xmas/hacka-aka-embedika/docs/7ce2d613ac62ec5e4ef3d988c1f91582.doc -> /Users/mayabikmetova/xmas/hacka-aka-embedika/docs/7ce2d613ac62ec5e4ef3d988c1f91582.docx using filter : Office Open XML Text\n",
      "Конвертирован файл  7ce2d613ac62ec5e4ef3d988c1f91582.doc\n",
      "convert /Users/mayabikmetova/xmas/hacka-aka-embedika/docs/dda3ea2dc3a078682620f926a54aa0bf.doc -> /Users/mayabikmetova/xmas/hacka-aka-embedika/docs/dda3ea2dc3a078682620f926a54aa0bf.docx using filter : Office Open XML Text\n",
      "Конвертирован файл  dda3ea2dc3a078682620f926a54aa0bf.doc\n",
      "convert /Users/mayabikmetova/xmas/hacka-aka-embedika/docs/5262e9c377c3ab1f6b8141762cca69ad.doc -> /Users/mayabikmetova/xmas/hacka-aka-embedika/docs/5262e9c377c3ab1f6b8141762cca69ad.docx using filter : Office Open XML Text\n",
      "Конвертирован файл  5262e9c377c3ab1f6b8141762cca69ad.doc\n",
      "convert /Users/mayabikmetova/xmas/hacka-aka-embedika/docs/616d4446e85de23f29337a6e089c67cb.doc -> /Users/mayabikmetova/xmas/hacka-aka-embedika/docs/616d4446e85de23f29337a6e089c67cb.docx using filter : Office Open XML Text\n",
      "Конвертирован файл  616d4446e85de23f29337a6e089c67cb.doc\n",
      "convert /Users/mayabikmetova/xmas/hacka-aka-embedika/docs/a8a9861b63d26f13f0f10a075158b6da.doc -> /Users/mayabikmetova/xmas/hacka-aka-embedika/docs/a8a9861b63d26f13f0f10a075158b6da.docx using filter : Office Open XML Text\n",
      "Конвертирован файл  a8a9861b63d26f13f0f10a075158b6da.doc\n",
      "convert /Users/mayabikmetova/xmas/hacka-aka-embedika/docs/85a65ecc4763c760f914382d6e26b1f1.doc -> /Users/mayabikmetova/xmas/hacka-aka-embedika/docs/85a65ecc4763c760f914382d6e26b1f1.docx using filter : Office Open XML Text\n",
      "Конвертирован файл  85a65ecc4763c760f914382d6e26b1f1.doc\n",
      "convert /Users/mayabikmetova/xmas/hacka-aka-embedika/docs/2b25ecf601a9ce0c2a33c8e1d9746df2.doc -> /Users/mayabikmetova/xmas/hacka-aka-embedika/docs/2b25ecf601a9ce0c2a33c8e1d9746df2.docx using filter : Office Open XML Text\n",
      "Конвертирован файл  2b25ecf601a9ce0c2a33c8e1d9746df2.doc\n",
      "convert /Users/mayabikmetova/xmas/hacka-aka-embedika/docs/c3141b7956167ce3987b82beb6cf73c4.doc -> /Users/mayabikmetova/xmas/hacka-aka-embedika/docs/c3141b7956167ce3987b82beb6cf73c4.docx using filter : Office Open XML Text\n",
      "Конвертирован файл  c3141b7956167ce3987b82beb6cf73c4.doc\n",
      "convert /Users/mayabikmetova/xmas/hacka-aka-embedika/docs/ef140e96384a29057445d0a889f1ad50.doc -> /Users/mayabikmetova/xmas/hacka-aka-embedika/docs/ef140e96384a29057445d0a889f1ad50.docx using filter : Office Open XML Text\n",
      "Конвертирован файл  ef140e96384a29057445d0a889f1ad50.doc\n",
      "convert /Users/mayabikmetova/xmas/hacka-aka-embedika/docs/e6a90919eab84ecbbdca11016c37b3a9.doc -> /Users/mayabikmetova/xmas/hacka-aka-embedika/docs/e6a90919eab84ecbbdca11016c37b3a9.docx using filter : Office Open XML Text\n",
      "Конвертирован файл  e6a90919eab84ecbbdca11016c37b3a9.doc\n",
      "convert /Users/mayabikmetova/xmas/hacka-aka-embedika/docs/f8eabec67b770c384d84f9feb7e02543.doc -> /Users/mayabikmetova/xmas/hacka-aka-embedika/docs/f8eabec67b770c384d84f9feb7e02543.docx using filter : Office Open XML Text\n",
      "Конвертирован файл  f8eabec67b770c384d84f9feb7e02543.doc\n",
      "convert /Users/mayabikmetova/xmas/hacka-aka-embedika/docs/8b82f3c800e486d9da9a13c98f7a40d6.doc -> /Users/mayabikmetova/xmas/hacka-aka-embedika/docs/8b82f3c800e486d9da9a13c98f7a40d6.docx using filter : Office Open XML Text\n",
      "Конвертирован файл  8b82f3c800e486d9da9a13c98f7a40d6.doc\n",
      "convert /Users/mayabikmetova/xmas/hacka-aka-embedika/docs/1ea8809d696a4bd6a2076fbc6fd28c23.doc -> /Users/mayabikmetova/xmas/hacka-aka-embedika/docs/1ea8809d696a4bd6a2076fbc6fd28c23.docx using filter : Office Open XML Text\n",
      "Конвертирован файл  1ea8809d696a4bd6a2076fbc6fd28c23.doc\n",
      "convert /Users/mayabikmetova/xmas/hacka-aka-embedika/docs/7aff676ead9fe323b2c542e60accb1ae.doc -> /Users/mayabikmetova/xmas/hacka-aka-embedika/docs/7aff676ead9fe323b2c542e60accb1ae.docx using filter : Office Open XML Text\n",
      "Конвертирован файл  7aff676ead9fe323b2c542e60accb1ae.doc\n",
      "convert /Users/mayabikmetova/xmas/hacka-aka-embedika/docs/a40a0347f0a91f2537ccc67c46d883b7.doc -> /Users/mayabikmetova/xmas/hacka-aka-embedika/docs/a40a0347f0a91f2537ccc67c46d883b7.docx using filter : Office Open XML Text\n",
      "Конвертирован файл  a40a0347f0a91f2537ccc67c46d883b7.doc\n",
      "convert /Users/mayabikmetova/xmas/hacka-aka-embedika/docs/f96c2a58215aa54aeb6713cbb457fad9.doc -> /Users/mayabikmetova/xmas/hacka-aka-embedika/docs/f96c2a58215aa54aeb6713cbb457fad9.docx using filter : Office Open XML Text\n",
      "Конвертирован файл  f96c2a58215aa54aeb6713cbb457fad9.doc\n",
      "convert /Users/mayabikmetova/xmas/hacka-aka-embedika/docs/69ab7557dee21939aa7432b23a54cb2b.doc -> /Users/mayabikmetova/xmas/hacka-aka-embedika/docs/69ab7557dee21939aa7432b23a54cb2b.docx using filter : Office Open XML Text\n",
      "Конвертирован файл  69ab7557dee21939aa7432b23a54cb2b.doc\n",
      "convert /Users/mayabikmetova/xmas/hacka-aka-embedika/docs/f6377999f8a5aa9a09b03e428ac93153.doc -> /Users/mayabikmetova/xmas/hacka-aka-embedika/docs/f6377999f8a5aa9a09b03e428ac93153.docx using filter : Office Open XML Text\n",
      "Конвертирован файл  f6377999f8a5aa9a09b03e428ac93153.doc\n",
      "convert /Users/mayabikmetova/xmas/hacka-aka-embedika/docs/58c8976ca35aa805aa9d21246d5d18ee.doc -> /Users/mayabikmetova/xmas/hacka-aka-embedika/docs/58c8976ca35aa805aa9d21246d5d18ee.docx using filter : Office Open XML Text\n",
      "Конвертирован файл  58c8976ca35aa805aa9d21246d5d18ee.doc\n",
      "convert /Users/mayabikmetova/xmas/hacka-aka-embedika/docs/86d6d0062e91651ccc3d3ce35b162bf8.doc -> /Users/mayabikmetova/xmas/hacka-aka-embedika/docs/86d6d0062e91651ccc3d3ce35b162bf8.docx using filter : Office Open XML Text\n",
      "Конвертирован файл  86d6d0062e91651ccc3d3ce35b162bf8.doc\n",
      "convert /Users/mayabikmetova/xmas/hacka-aka-embedika/docs/91ba127aad1b88905603ecc3aacac0d1.doc -> /Users/mayabikmetova/xmas/hacka-aka-embedika/docs/91ba127aad1b88905603ecc3aacac0d1.docx using filter : Office Open XML Text\n",
      "Конвертирован файл  91ba127aad1b88905603ecc3aacac0d1.doc\n",
      "convert /Users/mayabikmetova/xmas/hacka-aka-embedika/docs/6df1c02e4f9adaa9b87126dc3cb2d72b.doc -> /Users/mayabikmetova/xmas/hacka-aka-embedika/docs/6df1c02e4f9adaa9b87126dc3cb2d72b.docx using filter : Office Open XML Text\n",
      "Конвертирован файл  6df1c02e4f9adaa9b87126dc3cb2d72b.doc\n",
      "convert /Users/mayabikmetova/xmas/hacka-aka-embedika/docs/67170dee29deff9bc80087a94aef7ea4.doc -> /Users/mayabikmetova/xmas/hacka-aka-embedika/docs/67170dee29deff9bc80087a94aef7ea4.docx using filter : Office Open XML Text\n",
      "Конвертирован файл  67170dee29deff9bc80087a94aef7ea4.doc\n",
      "convert /Users/mayabikmetova/xmas/hacka-aka-embedika/docs/49bce5af1c98cd017a310ea8edd3e55b.doc -> /Users/mayabikmetova/xmas/hacka-aka-embedika/docs/49bce5af1c98cd017a310ea8edd3e55b.docx using filter : Office Open XML Text\n"
     ]
    },
    {
     "name": "stdout",
     "output_type": "stream",
     "text": [
      "Конвертирован файл  49bce5af1c98cd017a310ea8edd3e55b.doc\n",
      "convert /Users/mayabikmetova/xmas/hacka-aka-embedika/docs/a0e06a957c1a729fe1d978605680e2ae.doc -> /Users/mayabikmetova/xmas/hacka-aka-embedika/docs/a0e06a957c1a729fe1d978605680e2ae.docx using filter : Office Open XML Text\n",
      "Конвертирован файл  a0e06a957c1a729fe1d978605680e2ae.doc\n",
      "convert /Users/mayabikmetova/xmas/hacka-aka-embedika/docs/073a0d372820c3c2bffe9ba24a7ed7af.doc -> /Users/mayabikmetova/xmas/hacka-aka-embedika/docs/073a0d372820c3c2bffe9ba24a7ed7af.docx using filter : Office Open XML Text\n",
      "Конвертирован файл  073a0d372820c3c2bffe9ba24a7ed7af.doc\n",
      "convert /Users/mayabikmetova/xmas/hacka-aka-embedika/docs/7ecd641f2ad81961c17455ed3ebeb2ab.doc -> /Users/mayabikmetova/xmas/hacka-aka-embedika/docs/7ecd641f2ad81961c17455ed3ebeb2ab.docx using filter : Office Open XML Text\n",
      "Конвертирован файл  7ecd641f2ad81961c17455ed3ebeb2ab.doc\n",
      "convert /Users/mayabikmetova/xmas/hacka-aka-embedika/docs/2060962a8b7ca4c45dc041c3f624225a.doc -> /Users/mayabikmetova/xmas/hacka-aka-embedika/docs/2060962a8b7ca4c45dc041c3f624225a.docx using filter : Office Open XML Text\n",
      "Конвертирован файл  2060962a8b7ca4c45dc041c3f624225a.doc\n",
      "convert /Users/mayabikmetova/xmas/hacka-aka-embedika/docs/66ee9b692a6b9c690564c92121a76b15.doc -> /Users/mayabikmetova/xmas/hacka-aka-embedika/docs/66ee9b692a6b9c690564c92121a76b15.docx using filter : Office Open XML Text\n",
      "Конвертирован файл  66ee9b692a6b9c690564c92121a76b15.doc\n",
      "convert /Users/mayabikmetova/xmas/hacka-aka-embedika/docs/14711e4fc8e56f0c75856c8837ec04cb.doc -> /Users/mayabikmetova/xmas/hacka-aka-embedika/docs/14711e4fc8e56f0c75856c8837ec04cb.docx using filter : Office Open XML Text\n",
      "Конвертирован файл  14711e4fc8e56f0c75856c8837ec04cb.doc\n",
      "convert /Users/mayabikmetova/xmas/hacka-aka-embedika/docs/bd9b731375abcdb9969af05ec9fb03fa.doc -> /Users/mayabikmetova/xmas/hacka-aka-embedika/docs/bd9b731375abcdb9969af05ec9fb03fa.docx using filter : Office Open XML Text\n",
      "Конвертирован файл  bd9b731375abcdb9969af05ec9fb03fa.doc\n",
      "convert /Users/mayabikmetova/xmas/hacka-aka-embedika/docs/123c9dd7b2736589f1f286d2112bc4eb.doc -> /Users/mayabikmetova/xmas/hacka-aka-embedika/docs/123c9dd7b2736589f1f286d2112bc4eb.docx using filter : Office Open XML Text\n",
      "Конвертирован файл  123c9dd7b2736589f1f286d2112bc4eb.doc\n",
      "convert /Users/mayabikmetova/xmas/hacka-aka-embedika/docs/d0e8ce466209873b70ddfdbacf0eef71.doc -> /Users/mayabikmetova/xmas/hacka-aka-embedika/docs/d0e8ce466209873b70ddfdbacf0eef71.docx using filter : Office Open XML Text\n",
      "Конвертирован файл  d0e8ce466209873b70ddfdbacf0eef71.doc\n",
      "convert /Users/mayabikmetova/xmas/hacka-aka-embedika/docs/a7966d0674c94a6e752e3a5832edb2a9.doc -> /Users/mayabikmetova/xmas/hacka-aka-embedika/docs/a7966d0674c94a6e752e3a5832edb2a9.docx using filter : Office Open XML Text\n",
      "Конвертирован файл  a7966d0674c94a6e752e3a5832edb2a9.doc\n",
      "convert /Users/mayabikmetova/xmas/hacka-aka-embedika/docs/453b2cb6e4ba7b8d1a8382773880d313.doc -> /Users/mayabikmetova/xmas/hacka-aka-embedika/docs/453b2cb6e4ba7b8d1a8382773880d313.docx using filter : Office Open XML Text\n",
      "Конвертирован файл  453b2cb6e4ba7b8d1a8382773880d313.doc\n",
      "convert /Users/mayabikmetova/xmas/hacka-aka-embedika/docs/3031ff9bc88ad88532311b419267c875.doc -> /Users/mayabikmetova/xmas/hacka-aka-embedika/docs/3031ff9bc88ad88532311b419267c875.docx using filter : Office Open XML Text\n",
      "Конвертирован файл  3031ff9bc88ad88532311b419267c875.doc\n",
      "convert /Users/mayabikmetova/xmas/hacka-aka-embedika/docs/855c8450351c98a25ea2ac22a0256c7f.doc -> /Users/mayabikmetova/xmas/hacka-aka-embedika/docs/855c8450351c98a25ea2ac22a0256c7f.docx using filter : Office Open XML Text\n",
      "Конвертирован файл  855c8450351c98a25ea2ac22a0256c7f.doc\n",
      "convert /Users/mayabikmetova/xmas/hacka-aka-embedika/docs/6babd660f1a9192017a06b7e93bea919.doc -> /Users/mayabikmetova/xmas/hacka-aka-embedika/docs/6babd660f1a9192017a06b7e93bea919.docx using filter : Office Open XML Text\n",
      "Конвертирован файл  6babd660f1a9192017a06b7e93bea919.doc\n",
      "convert /Users/mayabikmetova/xmas/hacka-aka-embedika/docs/2fd747f38e30ae7ce1c9d6e3b907ac5d.doc -> /Users/mayabikmetova/xmas/hacka-aka-embedika/docs/2fd747f38e30ae7ce1c9d6e3b907ac5d.docx using filter : Office Open XML Text\n",
      "Конвертирован файл  2fd747f38e30ae7ce1c9d6e3b907ac5d.doc\n",
      "convert /Users/mayabikmetova/xmas/hacka-aka-embedika/docs/f28d4a853be12515dae73a5912bc5b41.doc -> /Users/mayabikmetova/xmas/hacka-aka-embedika/docs/f28d4a853be12515dae73a5912bc5b41.docx using filter : Office Open XML Text\n",
      "Конвертирован файл  f28d4a853be12515dae73a5912bc5b41.doc\n",
      "convert /Users/mayabikmetova/xmas/hacka-aka-embedika/docs/b7acf29be1d3e4b9cb529683e676fadb.doc -> /Users/mayabikmetova/xmas/hacka-aka-embedika/docs/b7acf29be1d3e4b9cb529683e676fadb.docx using filter : Office Open XML Text\n",
      "Конвертирован файл  b7acf29be1d3e4b9cb529683e676fadb.doc\n",
      "convert /Users/mayabikmetova/xmas/hacka-aka-embedika/docs/eddc39f5f675890f285014c886bf22c9.doc -> /Users/mayabikmetova/xmas/hacka-aka-embedika/docs/eddc39f5f675890f285014c886bf22c9.docx using filter : Office Open XML Text\n",
      "Конвертирован файл  eddc39f5f675890f285014c886bf22c9.doc\n",
      "convert /Users/mayabikmetova/xmas/hacka-aka-embedika/docs/e6a6d61368866475f346f078cf2cbe60.doc -> /Users/mayabikmetova/xmas/hacka-aka-embedika/docs/e6a6d61368866475f346f078cf2cbe60.docx using filter : Office Open XML Text\n",
      "Конвертирован файл  e6a6d61368866475f346f078cf2cbe60.doc\n",
      "convert /Users/mayabikmetova/xmas/hacka-aka-embedika/docs/82e5f04228e8d6768de9e4a4c565e89f.doc -> /Users/mayabikmetova/xmas/hacka-aka-embedika/docs/82e5f04228e8d6768de9e4a4c565e89f.docx using filter : Office Open XML Text\n",
      "Конвертирован файл  82e5f04228e8d6768de9e4a4c565e89f.doc\n",
      "convert /Users/mayabikmetova/xmas/hacka-aka-embedika/docs/7e0cf1019baa9e1cdabcfc06d522d424.doc -> /Users/mayabikmetova/xmas/hacka-aka-embedika/docs/7e0cf1019baa9e1cdabcfc06d522d424.docx using filter : Office Open XML Text\n",
      "Конвертирован файл  7e0cf1019baa9e1cdabcfc06d522d424.doc\n",
      "convert /Users/mayabikmetova/xmas/hacka-aka-embedika/docs/3588ff6fb8f5c5a5f70196500198ca3a.doc -> /Users/mayabikmetova/xmas/hacka-aka-embedika/docs/3588ff6fb8f5c5a5f70196500198ca3a.docx using filter : Office Open XML Text\n",
      "Конвертирован файл  3588ff6fb8f5c5a5f70196500198ca3a.doc\n",
      "convert /Users/mayabikmetova/xmas/hacka-aka-embedika/docs/4e583dc5a5f1499fd2408f3152589f2d.doc -> /Users/mayabikmetova/xmas/hacka-aka-embedika/docs/4e583dc5a5f1499fd2408f3152589f2d.docx using filter : Office Open XML Text\n",
      "Конвертирован файл  4e583dc5a5f1499fd2408f3152589f2d.doc\n",
      "convert /Users/mayabikmetova/xmas/hacka-aka-embedika/docs/a525f050cef10dee3a42468daec064ff.doc -> /Users/mayabikmetova/xmas/hacka-aka-embedika/docs/a525f050cef10dee3a42468daec064ff.docx using filter : Office Open XML Text\n",
      "Конвертирован файл  a525f050cef10dee3a42468daec064ff.doc\n",
      "convert /Users/mayabikmetova/xmas/hacka-aka-embedika/docs/0ca2f9faecdbc67d6686a9f5b6636eba.doc -> /Users/mayabikmetova/xmas/hacka-aka-embedika/docs/0ca2f9faecdbc67d6686a9f5b6636eba.docx using filter : Office Open XML Text\n",
      "Конвертирован файл  0ca2f9faecdbc67d6686a9f5b6636eba.doc\n",
      "convert /Users/mayabikmetova/xmas/hacka-aka-embedika/docs/5e9754740f6c89a96cf5996404ec3c27.doc -> /Users/mayabikmetova/xmas/hacka-aka-embedika/docs/5e9754740f6c89a96cf5996404ec3c27.docx using filter : Office Open XML Text\n",
      "Конвертирован файл  5e9754740f6c89a96cf5996404ec3c27.doc\n",
      "convert /Users/mayabikmetova/xmas/hacka-aka-embedika/docs/62e280b12c607701866006e37ad990a5.doc -> /Users/mayabikmetova/xmas/hacka-aka-embedika/docs/62e280b12c607701866006e37ad990a5.docx using filter : Office Open XML Text\n",
      "Конвертирован файл  62e280b12c607701866006e37ad990a5.doc\n",
      "convert /Users/mayabikmetova/xmas/hacka-aka-embedika/docs/ff6882cb4a3ec31dec18a94e1d1745b1.doc -> /Users/mayabikmetova/xmas/hacka-aka-embedika/docs/ff6882cb4a3ec31dec18a94e1d1745b1.docx using filter : Office Open XML Text\n",
      "Конвертирован файл  ff6882cb4a3ec31dec18a94e1d1745b1.doc\n",
      "convert /Users/mayabikmetova/xmas/hacka-aka-embedika/docs/f3734851311f2a7ac6c66ad7ccbe1d2c.doc -> /Users/mayabikmetova/xmas/hacka-aka-embedika/docs/f3734851311f2a7ac6c66ad7ccbe1d2c.docx using filter : Office Open XML Text\n",
      "Конвертирован файл  f3734851311f2a7ac6c66ad7ccbe1d2c.doc\n",
      "convert /Users/mayabikmetova/xmas/hacka-aka-embedika/docs/41b36e9a90f36be9ed2a2b4f44e5c848.doc -> /Users/mayabikmetova/xmas/hacka-aka-embedika/docs/41b36e9a90f36be9ed2a2b4f44e5c848.docx using filter : Office Open XML Text\n"
     ]
    },
    {
     "name": "stdout",
     "output_type": "stream",
     "text": [
      "Конвертирован файл  41b36e9a90f36be9ed2a2b4f44e5c848.doc\n",
      "convert /Users/mayabikmetova/xmas/hacka-aka-embedika/docs/5908cb5da047d6c9e6dfea6337fb3189.doc -> /Users/mayabikmetova/xmas/hacka-aka-embedika/docs/5908cb5da047d6c9e6dfea6337fb3189.docx using filter : Office Open XML Text\n",
      "Конвертирован файл  5908cb5da047d6c9e6dfea6337fb3189.doc\n",
      "convert /Users/mayabikmetova/xmas/hacka-aka-embedika/docs/d143c89d002fcef3e2bd2efdb4966f55.doc -> /Users/mayabikmetova/xmas/hacka-aka-embedika/docs/d143c89d002fcef3e2bd2efdb4966f55.docx using filter : Office Open XML Text\n",
      "Конвертирован файл  d143c89d002fcef3e2bd2efdb4966f55.doc\n",
      "convert /Users/mayabikmetova/xmas/hacka-aka-embedika/docs/bdfb262c00991dddebfc5d4a87604284.doc -> /Users/mayabikmetova/xmas/hacka-aka-embedika/docs/bdfb262c00991dddebfc5d4a87604284.docx using filter : Office Open XML Text\n",
      "Конвертирован файл  bdfb262c00991dddebfc5d4a87604284.doc\n",
      "convert /Users/mayabikmetova/xmas/hacka-aka-embedika/docs/8540a7dccb3a9e4d0a1a2611e077ce9d.doc -> /Users/mayabikmetova/xmas/hacka-aka-embedika/docs/8540a7dccb3a9e4d0a1a2611e077ce9d.docx using filter : Office Open XML Text\n",
      "Конвертирован файл  8540a7dccb3a9e4d0a1a2611e077ce9d.doc\n",
      "convert /Users/mayabikmetova/xmas/hacka-aka-embedika/docs/2351cf256df1b683a425211c1ed0e848.doc -> /Users/mayabikmetova/xmas/hacka-aka-embedika/docs/2351cf256df1b683a425211c1ed0e848.docx using filter : Office Open XML Text\n",
      "Конвертирован файл  2351cf256df1b683a425211c1ed0e848.doc\n",
      "convert /Users/mayabikmetova/xmas/hacka-aka-embedika/docs/981d5a0ebbecffa588848251d0750fec.doc -> /Users/mayabikmetova/xmas/hacka-aka-embedika/docs/981d5a0ebbecffa588848251d0750fec.docx using filter : Office Open XML Text\n",
      "Конвертирован файл  981d5a0ebbecffa588848251d0750fec.doc\n",
      "convert /Users/mayabikmetova/xmas/hacka-aka-embedika/docs/d54c0b06162cf7cf57e8b1e7356aa204.doc -> /Users/mayabikmetova/xmas/hacka-aka-embedika/docs/d54c0b06162cf7cf57e8b1e7356aa204.docx using filter : Office Open XML Text\n",
      "Конвертирован файл  d54c0b06162cf7cf57e8b1e7356aa204.doc\n",
      "convert /Users/mayabikmetova/xmas/hacka-aka-embedika/docs/084edc7dfc3db04e3a3c55c102f47bcb.doc -> /Users/mayabikmetova/xmas/hacka-aka-embedika/docs/084edc7dfc3db04e3a3c55c102f47bcb.docx using filter : Office Open XML Text\n",
      "Конвертирован файл  084edc7dfc3db04e3a3c55c102f47bcb.doc\n",
      "convert /Users/mayabikmetova/xmas/hacka-aka-embedika/docs/6b18c046e7ccfdaf9123c11980f56c35.doc -> /Users/mayabikmetova/xmas/hacka-aka-embedika/docs/6b18c046e7ccfdaf9123c11980f56c35.docx using filter : Office Open XML Text\n",
      "Конвертирован файл  6b18c046e7ccfdaf9123c11980f56c35.doc\n",
      "convert /Users/mayabikmetova/xmas/hacka-aka-embedika/docs/137eaaa047f557233943012897e46cec.doc -> /Users/mayabikmetova/xmas/hacka-aka-embedika/docs/137eaaa047f557233943012897e46cec.docx using filter : Office Open XML Text\n",
      "Конвертирован файл  137eaaa047f557233943012897e46cec.doc\n",
      "convert /Users/mayabikmetova/xmas/hacka-aka-embedika/docs/99a11e3e403b7c8b0773108a84839517.doc -> /Users/mayabikmetova/xmas/hacka-aka-embedika/docs/99a11e3e403b7c8b0773108a84839517.docx using filter : Office Open XML Text\n",
      "Конвертирован файл  99a11e3e403b7c8b0773108a84839517.doc\n",
      "convert /Users/mayabikmetova/xmas/hacka-aka-embedika/docs/34f5456e56beb78b311728f738167d3a.doc -> /Users/mayabikmetova/xmas/hacka-aka-embedika/docs/34f5456e56beb78b311728f738167d3a.docx using filter : Office Open XML Text\n",
      "Конвертирован файл  34f5456e56beb78b311728f738167d3a.doc\n",
      "convert /Users/mayabikmetova/xmas/hacka-aka-embedika/docs/910ccf7c9b029846e4390ddac5f8d687.doc -> /Users/mayabikmetova/xmas/hacka-aka-embedika/docs/910ccf7c9b029846e4390ddac5f8d687.docx using filter : Office Open XML Text\n",
      "Конвертирован файл  910ccf7c9b029846e4390ddac5f8d687.doc\n",
      "convert /Users/mayabikmetova/xmas/hacka-aka-embedika/docs/cf89a65d4477656ec05262ae55bb6aaa.doc -> /Users/mayabikmetova/xmas/hacka-aka-embedika/docs/cf89a65d4477656ec05262ae55bb6aaa.docx using filter : Office Open XML Text\n",
      "Конвертирован файл  cf89a65d4477656ec05262ae55bb6aaa.doc\n",
      "convert /Users/mayabikmetova/xmas/hacka-aka-embedika/docs/508bdc1406af695fd7ab1f22b69b9857.doc -> /Users/mayabikmetova/xmas/hacka-aka-embedika/docs/508bdc1406af695fd7ab1f22b69b9857.docx using filter : Office Open XML Text\n",
      "Конвертирован файл  508bdc1406af695fd7ab1f22b69b9857.doc\n",
      "convert /Users/mayabikmetova/xmas/hacka-aka-embedika/docs/6cd62be718ceb49408c49e00e7b12a5e.doc -> /Users/mayabikmetova/xmas/hacka-aka-embedika/docs/6cd62be718ceb49408c49e00e7b12a5e.docx using filter : Office Open XML Text\n",
      "Конвертирован файл  6cd62be718ceb49408c49e00e7b12a5e.doc\n",
      "convert /Users/mayabikmetova/xmas/hacka-aka-embedika/docs/a69f5a60f3fd9a081cb0528dd461be45.doc -> /Users/mayabikmetova/xmas/hacka-aka-embedika/docs/a69f5a60f3fd9a081cb0528dd461be45.docx using filter : Office Open XML Text\n",
      "Конвертирован файл  a69f5a60f3fd9a081cb0528dd461be45.doc\n",
      "convert /Users/mayabikmetova/xmas/hacka-aka-embedika/docs/b95bbf14eb26ac912b1339e321cbca34.doc -> /Users/mayabikmetova/xmas/hacka-aka-embedika/docs/b95bbf14eb26ac912b1339e321cbca34.docx using filter : Office Open XML Text\n",
      "Конвертирован файл  b95bbf14eb26ac912b1339e321cbca34.doc\n",
      "convert /Users/mayabikmetova/xmas/hacka-aka-embedika/docs/cbf3217807791a37499a7b8d94616fdc.doc -> /Users/mayabikmetova/xmas/hacka-aka-embedika/docs/cbf3217807791a37499a7b8d94616fdc.docx using filter : Office Open XML Text\n",
      "Конвертирован файл  cbf3217807791a37499a7b8d94616fdc.doc\n",
      "convert /Users/mayabikmetova/xmas/hacka-aka-embedika/docs/15e3d16cf68646b3383d386aae2a6849.doc -> /Users/mayabikmetova/xmas/hacka-aka-embedika/docs/15e3d16cf68646b3383d386aae2a6849.docx using filter : Office Open XML Text\n",
      "Конвертирован файл  15e3d16cf68646b3383d386aae2a6849.doc\n",
      "convert /Users/mayabikmetova/xmas/hacka-aka-embedika/docs/0f7f507d0af90aba3c35484de016d8b4.doc -> /Users/mayabikmetova/xmas/hacka-aka-embedika/docs/0f7f507d0af90aba3c35484de016d8b4.docx using filter : Office Open XML Text\n",
      "Конвертирован файл  0f7f507d0af90aba3c35484de016d8b4.doc\n"
     ]
    }
   ],
   "source": [
    "# конвертация doc в docx для дальнейшего прочтения\n",
    "\n",
    "for FILE in os.listdir(DOC_PATH):\n",
    "    if FILE.split('.')[1] == 'doc':\n",
    "        subprocess.call([\"cd {} && /Applications/LibreOffice.app/Contents/MacOS/soffice \\\n",
    "                         --headless --convert-to docx {} && rm {}\".format(DOC_PATH, FILE, FILE)],\n",
    "                         shell=True)\n",
    "        print('Конвертирован файл ', FILE)\n"
   ]
  },
  {
   "cell_type": "code",
   "execution_count": 124,
   "id": "b4c89878",
   "metadata": {},
   "outputs": [
    {
     "name": "stdout",
     "output_type": "stream",
     "text": [
      "910ccf7c9b029846e4390ddac5f8d687.docx\n",
      "69ab7557dee21939aa7432b23a54cb2b.docx\n",
      "bec0aa38d1383172690a18d16b07f154.docx\n",
      "31d24c0d4694e7c2fb19933b84414b40.docx\n",
      "dda3ea2dc3a078682620f926a54aa0bf.docx\n",
      "cbf3217807791a37499a7b8d94616fdc.docx\n",
      "8ee681886de97951748528c7c78d03a7.docx\n",
      "2054a58154349bc54b691666fe3f89b1.pdf\n",
      "f8eabec67b770c384d84f9feb7e02543.docx\n",
      "e3f3df754bdf7578a71b7a9fa1500ad9.rtf\n",
      "b40a9d048b199d5f4db62a6a2335f2a0.pdf\n",
      "3588ff6fb8f5c5a5f70196500198ca3a.docx\n",
      "bdfb262c00991dddebfc5d4a87604284.docx\n",
      "f57fe87f15a6dee2b17e804421be63b5.pdf\n",
      "4db6b233fda895c3bffcb5fdc5b8e1de.rtf\n",
      "5e9754740f6c89a96cf5996404ec3c27.docx\n",
      "137eaaa047f557233943012897e46cec.docx\n",
      "8b82f3c800e486d9da9a13c98f7a40d6.docx\n",
      "7a120d4c7cec157324effa671e2d0812.docx\n",
      "7aff676ead9fe323b2c542e60accb1ae.docx\n",
      "2c81df29db63aebf495106881a52188f.docx\n",
      "0f7f507d0af90aba3c35484de016d8b4.docx\n",
      "97d4cf03b88c9e040557ab1b61e2e7a2.docx\n",
      "242b138fd2025b7a5207876098355e03.docx\n",
      "855c8450351c98a25ea2ac22a0256c7f.docx\n",
      "2351cf256df1b683a425211c1ed0e848.docx\n",
      "259b481366842141111305897cce7486.docx\n",
      "f6377999f8a5aa9a09b03e428ac93153.docx\n",
      "0ca2f9faecdbc67d6686a9f5b6636eba.docx\n",
      "62e280b12c607701866006e37ad990a5.docx\n",
      "a0e06a957c1a729fe1d978605680e2ae.docx\n",
      "7e0cf1019baa9e1cdabcfc06d522d424.docx\n",
      "b95bbf14eb26ac912b1339e321cbca34.docx\n",
      "a543a2a59bd604ad1224040b14844b49.docx\n",
      "f28d4a853be12515dae73a5912bc5b41.docx\n",
      "5908cb5da047d6c9e6dfea6337fb3189.docx\n",
      "57962abd8dbe0ce0c7056896ee4501f1.docx\n",
      "7ecd641f2ad81961c17455ed3ebeb2ab.docx\n",
      "81a64023bdb74032827385d43181ea3a.pdf\n",
      "736cc87395089b9611b0db70d2999d75.pdf\n",
      "cf89a65d4477656ec05262ae55bb6aaa.docx\n",
      "4c2c295e81f4a6c3e669e8f76c6ce423.docx\n",
      "1ea8809d696a4bd6a2076fbc6fd28c23.docx\n",
      "ff6882cb4a3ec31dec18a94e1d1745b1.docx\n",
      "82e5f04228e8d6768de9e4a4c565e89f.docx\n",
      "b7acf29be1d3e4b9cb529683e676fadb.docx\n",
      "6df1c02e4f9adaa9b87126dc3cb2d72b.docx\n",
      "66ee9b692a6b9c690564c92121a76b15.docx\n",
      "03a70fe60be9ecc2a63798a361fc9689.docx\n",
      "3031ff9bc88ad88532311b419267c875.docx\n",
      "a7966d0674c94a6e752e3a5832edb2a9.docx\n",
      "2b408919fd9833dc3f6892aad753f21f.docx\n",
      "86d6d0062e91651ccc3d3ce35b162bf8.docx\n",
      "8540a7dccb3a9e4d0a1a2611e077ce9d.docx\n",
      "508bdc1406af695fd7ab1f22b69b9857.docx\n",
      "4e583dc5a5f1499fd2408f3152589f2d.docx\n",
      "e6a90919eab84ecbbdca11016c37b3a9.docx\n",
      "84fec112d02288861e7af59f468131fb.docx\n",
      "4a5707e447271a188a1211606b158a94.pdf\n",
      "e6a6d61368866475f346f078cf2cbe60.docx\n",
      "d54c0b06162cf7cf57e8b1e7356aa204.docx\n",
      "084edc7dfc3db04e3a3c55c102f47bcb.docx\n",
      "a525f050cef10dee3a42468daec064ff.docx\n",
      "2b25ecf601a9ce0c2a33c8e1d9746df2.docx\n",
      "82b672721c50b8897a3cf7c98c0d8e0c.rtf\n",
      "a8a9861b63d26f13f0f10a075158b6da.docx\n",
      "c7a0230f5a8e1cbe7a6bec435b71a43c.docx\n",
      "0b4be82b86eff410d69d1d6b5553d220.docx\n",
      "f3734851311f2a7ac6c66ad7ccbe1d2c.docx\n",
      "abcec818adbe358f8071a75e0fe2cc49.pdf\n",
      "f96c2a58215aa54aeb6713cbb457fad9.docx\n",
      "b19a67817142ea9f2231aa63dfd2981c.docx\n",
      "616d4446e85de23f29337a6e089c67cb.docx\n",
      "214d620d9c54bc83111277dd872d3cb2.pdf\n",
      "641282d3072e91ab05c97110e0340020.docx\n",
      "856860329f573bbaf158e1eafa885ba5.docx\n",
      "58c8976ca35aa805aa9d21246d5d18ee.docx\n",
      "15e3d16cf68646b3383d386aae2a6849.docx\n",
      "85a65ecc4763c760f914382d6e26b1f1.docx\n",
      "a69f5a60f3fd9a081cb0528dd461be45.docx\n",
      "2c758805e2917306e6cbb079e2adcfcf.rtf\n",
      "8c5ce9a193c788cadf94ddec5607f3b4.docx\n",
      "a2f8675b6d37b6af819ca3fdbb0e3432.pdf\n",
      "d143c89d002fcef3e2bd2efdb4966f55.docx\n",
      "ef140e96384a29057445d0a889f1ad50.docx\n",
      "bd9b731375abcdb9969af05ec9fb03fa.docx\n",
      "7eb67b5aecf3f3190aab0a5f8ea32172.docx\n",
      "35b6a0f57d909507c5aa9a8972b15f35.pdf\n",
      "086ad48895d2a73854b6151decc28800.pdf\n",
      "317e4552102e82bd9e17ba1205cd4367.docx\n",
      "6babd660f1a9192017a06b7e93bea919.docx\n",
      "79104075f8b2ff971d51c495e67af52c.pdf\n",
      "02682d726b725f95b9ee85f751c043d0.docx\n",
      ".ipynb_checkpoints\n",
      "18d573815c15b4e798bdfbfb52fb2f43.docx\n",
      "67170dee29deff9bc80087a94aef7ea4.docx\n",
      "2060962a8b7ca4c45dc041c3f624225a.docx\n",
      "317dc2690741c169db9dc901ff5a3258.docx\n",
      "49bce5af1c98cd017a310ea8edd3e55b.docx\n",
      "eddc39f5f675890f285014c886bf22c9.docx\n",
      "d0e8ce466209873b70ddfdbacf0eef71.docx\n",
      "7ce2d613ac62ec5e4ef3d988c1f91582.docx\n",
      "123c9dd7b2736589f1f286d2112bc4eb.docx\n",
      "453b2cb6e4ba7b8d1a8382773880d313.docx\n",
      "41b36e9a90f36be9ed2a2b4f44e5c848.docx\n",
      "64f58bc6e1207a570a38d771609b2cf1.docx\n",
      "a40a0347f0a91f2537ccc67c46d883b7.docx\n",
      "2d4708c800dc003466fa9a8a64e2e2b7.docx\n",
      "14711e4fc8e56f0c75856c8837ec04cb.docx\n",
      "b303afea664ed05cdbc73a8c3b31b09d.docx\n",
      "34f5456e56beb78b311728f738167d3a.docx\n",
      "19e2becdb0f10e1c16a5a2460f3a84a2.pdf\n",
      "99a11e3e403b7c8b0773108a84839517.docx\n",
      "c3141b7956167ce3987b82beb6cf73c4.docx\n",
      "6b18c046e7ccfdaf9123c11980f56c35.docx\n",
      "2fd747f38e30ae7ce1c9d6e3b907ac5d.docx\n",
      "073a0d372820c3c2bffe9ba24a7ed7af.docx\n",
      "981d5a0ebbecffa588848251d0750fec.docx\n",
      "6cd62be718ceb49408c49e00e7b12a5e.docx\n",
      "5262e9c377c3ab1f6b8141762cca69ad.docx\n",
      "91ba127aad1b88905603ecc3aacac0d1.docx\n"
     ]
    }
   ],
   "source": [
    "for FILE in os.listdir(DOC_PATH):\n",
    "    if FILE.split('.')[1] != 'doc' and FILE != '.DS_Store':\n",
    "        print(FILE)"
   ]
  },
  {
   "cell_type": "code",
   "execution_count": null,
   "id": "1f499281",
   "metadata": {},
   "outputs": [],
   "source": []
  },
  {
   "cell_type": "code",
   "execution_count": 134,
   "id": "36762aea",
   "metadata": {},
   "outputs": [
    {
     "name": "stdout",
     "output_type": "stream",
     "text": [
      "Приложение № 2\n",
      "к приказу Минобразования России\n",
      "от 10.07.2003 № 2994\n",
      "Примерная форма договора\n",
      "об оказании платных образовательных услуг негосударственными образовательными организациями\n",
      "|“||”||||г.|\n",
      "(место заключения договора)||(дата заключения договора)||\n",
      "Негосударственная образовательная организация  \t\n",
      "(полное наименование организации)\n",
      "\t\t(в дальнейшем – Исполнитель) на основании \n",
      "\n",
      "лицензии №||, выданной||\n",
      "|||(наименование органа, выдавшего лицензию)|\n",
      "|на срок с “||”||||г. до “||”||||г.,   |\n",
      "и свидетельства о государственной аккредитации №||, выданного|\n",
      "\n",
      "(наименование органа, выдавшего свидетельство)\n",
      "на срок с “||”||||г. до “||”||||г. (для организаций,    |\n",
      "прошедших государственную аккредитацию), в лице  \t\n",
      "(должность, фамилия, имя, отчество)\n",
      "\t\t, действующего на основании Устава Исполнителя, с одной \n",
      "\n",
      "стороны, и  \t\n",
      "(фамилия, имя, отчество и статус законного представителя несовершеннолетнего - мать,\n",
      "отец, опекун, попечитель, уполномоченный представитель органа опеки и попечительства\n",
      "или учреждение социальной защиты, в котором находится нуждающийся в опеке\n",
      "или попечительстве несовершеннолетний, либо лица, действующего\n",
      "на основании доверенности, выданной законным представителем)\n",
      "(в дальнейшем - Заказчик) и  \t\n",
      "(фамилия, имя, отчество несовершеннолетнего,\n",
      "достигшего 14-летнего возраста)\n",
      "(в дальнейшем - Потребитель), с другой стороны, заключили в соответствии с Гражданским кодексом Российской Федерации, Законами Российской Федерации \"Об образовании\" и \"О защите прав потребителей\", а также Правилами оказания платных образовательных услуг в сфере дошкольного и общего образования, утвержденными Постановлением Правительства Российской Федерации \"Об утверждении Правил оказания платных образовательных услуг в сфере дошкольного и общего образования\" от 05.07.2001 № 505 (в ред. Постановления Правительства Российской Федерации от 01.04.2003 № 181), настоящий договор о нижеследующем:\n",
      "1. ПРЕДМЕТ ДОГОВОРА\n",
      "Исполнитель предоставляет, а Заказчик оплачивает образовательные услуги,\n",
      "\n",
      "соответствующие  \t\tклассу не ниже требований государственных образовательных \n",
      "\n",
      "стандартов (иных временно заменяющих их документов, утвержденных в установленном\n",
      "порядке),  \t\t,\n",
      "(указать уровень - основное общее, среднее (полное) общее и ступень общеобразовательной программы - начальное общее, основное общее, среднее (полное) общее)\n",
      "наименование и количество которых определено в приложении 1, являющемся неотъемлемой частью настоящего договора (в приложении 1 указать наименование учебных дисциплин, форму проведения занятий и количество учебных часов)*. Срок обучения в соответствии с рабочим учебным планом (индивидуально, в группе) составляет  \t\t.\n",
      "\n",
      "2. ОБЯЗАННОСТИ ИСПОЛНИТЕЛЯ\n",
      "Исполнитель обязан:\n",
      "2.1. Зачислить Потребителя  \t\t,\n",
      "\n",
      "выполнившего установленные условия приема, в  \t.\n",
      "(наименование Исполнителя)\n",
      "2.2. Организовать и обеспечить надлежащее исполнение услуг, предусмотренных в разделе 1 настоящего договора. Образовательные услуги оказываются в соответствии с учебным планом, годовым календарным учебным графиком и расписанием занятий, разрабатываемыми Исполнителем.\n",
      "2.3. Обеспечить для проведения занятий помещения, соответствующие санитарным и гигиеническим требованиям, а также оснащение, соответствующее обязательным нормам и правилам, предъявляемым к образовательному процессу.\n",
      "2.4. Проявлять уважение к личности Потребителя, оберегать его от всех форм физического и психологического насилия, обеспечить условия укрепления нравственного, физического и психологического здоровья, эмоционального благополучия Потребителя с учетом его индивидуальных особенностей.\n",
      "2.5. Обеспечить выдачу  \n",
      "(указать документ - свидетельство, аттестат\n",
      "государственного или иного образца)\n",
      "Потребителю, прошедшему полный курс обучения и успешно прошедшему аттестацию по программе, соответствующей уровню  \t\t.\n",
      "(указать уровень общего образования)\n",
      "2.6. Выдать Потребителю соответствующий документ об освоении тех или иных компонентов программ общего образования (за класс, за освоенные учебные предметы) в случае ухода Потребителя из образовательной организации до завершения им обучения в полном объеме, предусмотренном настоящим договором.\n",
      "2.7. Сохранить место за Потребителем в случае его болезни, лечения, карантина, отпуска родителей, каникул и в других случаях пропуска занятий по уважительным причинам (в случае оплаты услуг, предусмотренных разделом 1 настоящего договора).\n",
      "2.8. Восполнить материал занятий, пройденный за время отсутствия Потребителя по уважительной причине, в пределах объема услуг, оказываемых в соответствии с разделом 1 настоящего договора.\n",
      "\n",
      "* 1. На оказание негосударственной образовательной организацией дополнительных образовательных услуг производятся соответствующие изменения в предмете договора и составляется соответствующее приложение, являющееся неотъемлемой частью настоящего договора. В приложении указываются наименование и количество дополнительных образовательных услуг, наименования учебных дисциплин, формы проведения занятий и количество учебных часов.\n",
      "2. На оказание негосударственной образовательной организацией (помимо образовательных услуг) платных социальных услуг, связанных с обеспечением условий образовательного процесса (по организации питания, медицинскому обслуживанию, охраны, доставки обучающихся в образовательную организацию и домой транспортом и т.д.), заключается отдельный договор.\n",
      "2.9. Уведомить Заказчика о нецелесообразности оказания Потребителю образовательных услуг в объеме, предусмотренном п. 1.2 настоящего договора, вследствие его индивидуальных особенностей, делающих невозможным или педагогически нецелесообразным оказание данных услуг.\n",
      "(Пункт 2.9 относится к тем негосударственным образовательным организациям, которые оказывают, помимо образовательных услуг по основным общеобразовательным программам, также дополнительные образовательные услуги.)\n",
      "3. ОБЯЗАННОСТИ ЗАКАЗЧИКА\n",
      "3.1. Своевременно вносить плату за предоставленные услуги, указанные в разделе 1 настоящего договора.\n",
      "3.2. При поступлении Потребителя в образовательное учреждение и в процессе его обучения своевременно предоставлять все необходимые документы, предусмотренные уставом негосударственной образовательной организации.\n",
      "3.3. Незамедлительно сообщать руководителю Исполнителя об изменении контактного телефона и места жительства.\n",
      "3.4. Извещать руководителя Исполнителя об уважительных причинах отсутствия Потребителя на занятиях.\n",
      "3.5. По просьбе Исполнителя приходить для беседы при наличии претензий Исполнителя к поведению Потребителя или его отношению к получению образовательных услуг.\n",
      "3.6. Проявлять уважение к педагогам, администрации и техническому персоналу Исполнителя.\n",
      "3.7. Возмещать ущерб, причиненный Потребителем имуществу Исполнителя, в соответствии с законодательством Российской Федерации.\n",
      "3.8. Обеспечить Потребителя за свой счет предметами, необходимыми для надлежащего осуществления Исполнителем образовательного процесса, в количестве, соответствующем возрасту и потребностям Потребителя.\n",
      "3.9. В случае выявления заболевания Потребителя (по заключению учреждений здравоохранения либо медицинского персонала Исполнителя) освободить Потребителя от занятий и принять меры по его выздоровлению.\n",
      "3.10. Для договора с участием Потребителя, не достигшего 14-летнего возраста, обеспечить посещение Потребителем занятий согласно учебному расписанию.\n",
      "4. ОБЯЗАННОСТИ ПОТРЕБИТЕЛЯ\n",
      "(для договора с Потребителем, достигшим 14-летнего возраста)\n",
      "Потребитель обязан:\n",
      "4.1. Посещать занятия, указанные в учебном расписании.\n",
      "4.2. Выполнять задания по подготовке к занятиям, даваемые педагогами образовательной организации.\n",
      "4.3. Соблюдать учебную дисциплину и общепринятые нормы поведения, в частности, проявлять уважение к педагогам, администрации и техническому персоналу Исполнителя и другим обучающимся, не посягать на их честь и достоинство.\n",
      "4.4. Бережно относиться к имуществу Исполнителя.\n",
      "5. ПРАВА ИСПОЛНИТЕЛЯ, ЗАКАЗЧИКА, ПОТРЕБИТЕЛЯ\n",
      "5.1. Исполнитель вправе отказать Заказчику и Потребителю в заключении договора на новый срок по истечении действия настоящего договора, если Заказчик, Потребитель в период его действия допускали нарушения, предусмотренные гражданским законодательством и настоящим договором и дающие Исполнителю право в одностороннем порядке отказаться от исполнения договора.\n",
      "5.2. Заказчик вправе требовать от Исполнителя предоставления информации:\n",
      "по вопросам, касающимся организации и обеспечения надлежащего исполнения услуг, предусмотренных разделом 1 настоящего договора, образовательной деятельности Исполнителя и перспектив ее развития;\n",
      "об успеваемости, поведении, отношении Потребителя к учебе в целом и по отдельным предметам учебного плана.\n",
      "Заказчик и Потребитель, надлежащим образом исполнившие свои обязательства по настоящему договору, имеют преимущественное право на заключение договора на новый срок по истечении срока действия настоящего договора, а в случае нарушения этого права Исполнителем - на возмещение причиненных в связи с этим убытков.\n",
      "5.3. Потребитель вправе:\n",
      "обращаться к работникам Исполнителя по всем вопросам деятельности образовательного учреждения;\n",
      "получать полную и достоверную информацию об оценке своих знаний, умений, иных образовательных достижениях, а также о критериях этой оценки;\n",
      "пользоваться имуществом Исполнителя, необходимым для осуществления образовательного процесса, во время занятий, предусмотренных расписанием;\n",
      "пользоваться дополнительными образовательными услугами, не входящими в учебную программу, за отдельную плату;\n",
      "принимать участие в социально-культурных, оздоровительных и т.п. мероприятиях, организованных Исполнителем.\n",
      "6. ОПЛАТА УСЛУГ\n",
      "6.1. Заказчик  \t\n",
      "(указать период оплаты - ежемесячно, ежеквартально, по четвертям, полугодиям\n",
      "или иной платежный период)\n",
      "в рублях оплачивает услуги, указанные в разделе 1 настоящего договора, в сумме\n",
      "\n",
      "\n",
      "(указать денежную сумму в рублях либо эквивалентной определенной сумме в иностранной валюте\n",
      "по курсу Центробанка России на день платежа)\n",
      "6.2. Оплата производится  \n",
      "(указать время оплаты, например, не позднее определенного числа\n",
      "\n",
      "периода, подлежащего оплате, или не позднее определенного числа периода, предшествующего\n",
      "(следующего) за периодом оплаты)\n",
      "в безналичном порядке на счет Исполнителя в банке. Оплата услуг удостоверяется\n",
      "\n",
      "Исполнителем  \t.\n",
      "(указать документ, подтверждающий оплату\n",
      "выдаваемый Заказчику Исполнителем)\n",
      "6.3. На оказание образовательных услуг, предусмотренных настоящим договором, может быть составлена смета. Составление такой сметы по требованию Потребителя или Исполнителя обязательно. В этом случае смета становится частью договора.\n",
      "7. ОСНОВАНИЯ ИЗМЕНЕНИЯ И РАСТОРЖЕНИЯ ДОГОВОРА\n",
      "7.1. Условия, на которых заключен настоящий договор, могут быть изменены либо по соглашению сторон, либо в соответствии с действующим законодательством Российской Федерации.\n",
      "7.2. Потребитель, достигший 14-летнего возраста, вправе в любое время расторгнуть настоящий договор только с письменного согласия законных представителей при условии оплаты Исполнителю фактически понесенных расходов и услуг, оказанных до момента отказа.\n",
      "\n",
      "\n",
      "От имени Потребителя в возрасте от 6 до 14 лет договор в любое время может быть расторгнут Заказчиком при условии, указанном в абз. 1 настоящего пункта.\n",
      "7.3. Настоящий договор может быть расторгнут по соглашению сторон. По инициативе одной из сторон договор может быть расторгнут по основаниям, предусмотренным действующим законодательством Российской Федерации.\n",
      "Помимо этого, Исполнитель вправе отказаться от исполнения договора, если Заказчик нарушил сроки оплаты услуг по настоящему договору  \n",
      "(указать срок или количество просрочек,\n",
      "\t,\n",
      "или иных условий просрочки либо неоднократных иных нарушений обязательств)\n",
      "предусмотренные п. 3 настоящего договора, что явно затрудняет исполнение обязательств Исполнителем и нарушает права и законные интересы обучающихся и работников Исполнителя.\n",
      "7.4. Если Потребитель своим поведением систематически нарушает права и законные интересы других обучающихся и работников Исполнителя, расписание занятий или препятствует нормальному осуществлению образовательного процесса, Исполнитель вправе отказаться от исполнения договора, когда после предупреждений  \t\tПотребитель\n",
      "(указать количество)\n",
      "не устранит указанные нарушения.\n",
      "7.5. Договор считается расторгнутым со дня письменного уведомления Исполнителем Заказчика (Потребителя) об отказе от исполнения договора.\n",
      "8. ОТВЕТСТВЕННОСТЬ ЗА НЕИСПОЛНЕНИЕ ИЛИ НЕНАДЛЕЖАЩЕЕ\n",
      "ИСПОЛНЕНИЕ ОБЯЗАТЕЛЬСТВ ПО НАСТОЯЩЕМУ ДОГОВОРУ\n",
      "8.1. В случае неисполнения или ненадлежащего исполнения сторонами обязательств по настоящему договору они несут ответственность, предусмотренную гражданским законодательством и законодательством о защите прав потребителей, на условиях, установленных этим законодательством.\n",
      "9. Срок действия договора и другие условия\n",
      "9.1. Настоящий договор вступает в силу со дня его заключения сторонами и действует до\n",
      "\n",
      "“||”||||г.|\n",
      "9.2. Договор составлен в двух экземплярах, имеющих равную юридическую силу.\n",
      "Исполнитель||Заказчик||Потребитель, достигший\n",
      "14-летнего возраста|\n",
      "|||||\n",
      "(полное наименование образо-||(Ф.И.О.)||(Ф.И.О.)|\n",
      "|||||\n",
      "вательной организации)|||||\n",
      "|||||\n",
      "(юридический адрес)||(паспортные данные)||(паспортные данные)|\n",
      "|||||\n",
      "|||||\n",
      "(банковские реквизиты)||(адрес места жительства, ||(адрес места жительства)|\n",
      "|||||\n",
      "||контактный телефон)|||\n",
      "|||||\n",
      "(подпись)||(подпись)||(подпись)|\n",
      "М.П.\n",
      "\n",
      "\n"
     ]
    }
   ],
   "source": [
    "# opening rtf\n",
    "import striprtf\n",
    "\n",
    "from striprtf.striprtf import rtf_to_text\n",
    "\n",
    "with open('hacka-aka-embedika/docs/e3f3df754bdf7578a71b7a9fa1500ad9.rtf') as infile:\n",
    "    content = infile.read()\n",
    "    text = rtf_to_text(content)\n",
    "print(text)\n"
   ]
  },
  {
   "cell_type": "code",
   "execution_count": null,
   "id": "9ecbd427",
   "metadata": {},
   "outputs": [],
   "source": []
  },
  {
   "cell_type": "code",
   "execution_count": null,
   "id": "0d1a3dfd",
   "metadata": {},
   "outputs": [],
   "source": []
  },
  {
   "cell_type": "code",
   "execution_count": null,
   "id": "c0bd4edd",
   "metadata": {},
   "outputs": [],
   "source": []
  },
  {
   "cell_type": "code",
   "execution_count": 113,
   "id": "94ccc21a",
   "metadata": {},
   "outputs": [],
   "source": [
    "# разметка\n",
    "with open('hacka-aka-embedika/classes.json', 'r') as f:\n",
    "    data = json.load(f)\n",
    "    \n",
    "labels = pd.DataFrame({'filename': data.keys(), 'class': data.values()})"
   ]
  },
  {
   "cell_type": "code",
   "execution_count": 126,
   "id": "03de8b94",
   "metadata": {},
   "outputs": [],
   "source": [
    "labels['extension'] = labels['filename'].apply(lambda x: x.split('.')[1])"
   ]
  },
  {
   "cell_type": "code",
   "execution_count": 127,
   "id": "a89ca9e6",
   "metadata": {},
   "outputs": [
    {
     "data": {
      "text/html": [
       "<div>\n",
       "<style scoped>\n",
       "    .dataframe tbody tr th:only-of-type {\n",
       "        vertical-align: middle;\n",
       "    }\n",
       "\n",
       "    .dataframe tbody tr th {\n",
       "        vertical-align: top;\n",
       "    }\n",
       "\n",
       "    .dataframe thead th {\n",
       "        text-align: right;\n",
       "    }\n",
       "</style>\n",
       "<table border=\"1\" class=\"dataframe\">\n",
       "  <thead>\n",
       "    <tr style=\"text-align: right;\">\n",
       "      <th></th>\n",
       "      <th>filename</th>\n",
       "      <th>class</th>\n",
       "      <th>extension</th>\n",
       "    </tr>\n",
       "  </thead>\n",
       "  <tbody>\n",
       "    <tr>\n",
       "      <th>0</th>\n",
       "      <td>5908cb5da047d6c9e6dfea6337fb3189.doc</td>\n",
       "      <td>Договоры для акселератора/Договоры поставки</td>\n",
       "      <td>doc</td>\n",
       "    </tr>\n",
       "    <tr>\n",
       "      <th>1</th>\n",
       "      <td>14711e4fc8e56f0c75856c8837ec04cb.doc</td>\n",
       "      <td>Договоры для акселератора/Договоры поставки</td>\n",
       "      <td>doc</td>\n",
       "    </tr>\n",
       "    <tr>\n",
       "      <th>2</th>\n",
       "      <td>7eb67b5aecf3f3190aab0a5f8ea32172.docx</td>\n",
       "      <td>Договоры для акселератора/Договоры поставки</td>\n",
       "      <td>docx</td>\n",
       "    </tr>\n",
       "    <tr>\n",
       "      <th>3</th>\n",
       "      <td>b40a9d048b199d5f4db62a6a2335f2a0.pdf</td>\n",
       "      <td>Договоры для акселератора/Договоры поставки</td>\n",
       "      <td>pdf</td>\n",
       "    </tr>\n",
       "    <tr>\n",
       "      <th>4</th>\n",
       "      <td>84fec112d02288861e7af59f468131fb.docx</td>\n",
       "      <td>Договоры для акселератора/Договоры поставки</td>\n",
       "      <td>docx</td>\n",
       "    </tr>\n",
       "    <tr>\n",
       "      <th>...</th>\n",
       "      <td>...</td>\n",
       "      <td>...</td>\n",
       "      <td>...</td>\n",
       "    </tr>\n",
       "    <tr>\n",
       "      <th>115</th>\n",
       "      <td>f57fe87f15a6dee2b17e804421be63b5.pdf</td>\n",
       "      <td>Договоры для акселератора/Договоры купли-продажи</td>\n",
       "      <td>pdf</td>\n",
       "    </tr>\n",
       "    <tr>\n",
       "      <th>116</th>\n",
       "      <td>1ea8809d696a4bd6a2076fbc6fd28c23.doc</td>\n",
       "      <td>Договоры для акселератора/Договоры купли-продажи</td>\n",
       "      <td>doc</td>\n",
       "    </tr>\n",
       "    <tr>\n",
       "      <th>117</th>\n",
       "      <td>57962abd8dbe0ce0c7056896ee4501f1.doc</td>\n",
       "      <td>Договоры для акселератора/Договоры купли-продажи</td>\n",
       "      <td>doc</td>\n",
       "    </tr>\n",
       "    <tr>\n",
       "      <th>118</th>\n",
       "      <td>2c81df29db63aebf495106881a52188f.doc</td>\n",
       "      <td>Договоры для акселератора/Договоры купли-продажи</td>\n",
       "      <td>doc</td>\n",
       "    </tr>\n",
       "    <tr>\n",
       "      <th>119</th>\n",
       "      <td>0ca2f9faecdbc67d6686a9f5b6636eba.doc</td>\n",
       "      <td>Договоры для акселератора/Договоры купли-продажи</td>\n",
       "      <td>doc</td>\n",
       "    </tr>\n",
       "  </tbody>\n",
       "</table>\n",
       "<p>120 rows × 3 columns</p>\n",
       "</div>"
      ],
      "text/plain": [
       "                                  filename  \\\n",
       "0     5908cb5da047d6c9e6dfea6337fb3189.doc   \n",
       "1     14711e4fc8e56f0c75856c8837ec04cb.doc   \n",
       "2    7eb67b5aecf3f3190aab0a5f8ea32172.docx   \n",
       "3     b40a9d048b199d5f4db62a6a2335f2a0.pdf   \n",
       "4    84fec112d02288861e7af59f468131fb.docx   \n",
       "..                                     ...   \n",
       "115   f57fe87f15a6dee2b17e804421be63b5.pdf   \n",
       "116   1ea8809d696a4bd6a2076fbc6fd28c23.doc   \n",
       "117   57962abd8dbe0ce0c7056896ee4501f1.doc   \n",
       "118   2c81df29db63aebf495106881a52188f.doc   \n",
       "119   0ca2f9faecdbc67d6686a9f5b6636eba.doc   \n",
       "\n",
       "                                                class extension  \n",
       "0         Договоры для акселератора/Договоры поставки       doc  \n",
       "1         Договоры для акселератора/Договоры поставки       doc  \n",
       "2         Договоры для акселератора/Договоры поставки      docx  \n",
       "3         Договоры для акселератора/Договоры поставки       pdf  \n",
       "4         Договоры для акселератора/Договоры поставки      docx  \n",
       "..                                                ...       ...  \n",
       "115  Договоры для акселератора/Договоры купли-продажи       pdf  \n",
       "116  Договоры для акселератора/Договоры купли-продажи       doc  \n",
       "117  Договоры для акселератора/Договоры купли-продажи       doc  \n",
       "118  Договоры для акселератора/Договоры купли-продажи       doc  \n",
       "119  Договоры для акселератора/Договоры купли-продажи       doc  \n",
       "\n",
       "[120 rows x 3 columns]"
      ]
     },
     "execution_count": 127,
     "metadata": {},
     "output_type": "execute_result"
    }
   ],
   "source": [
    "labels"
   ]
  },
  {
   "cell_type": "code",
   "execution_count": 115,
   "id": "712dcfff",
   "metadata": {},
   "outputs": [
    {
     "data": {
      "text/plain": [
       "array(['Договоры для акселератора/Договоры поставки',\n",
       "       'Договоры для акселератора/Договоры оказания услуг',\n",
       "       'Договоры для акселератора/Договоры подряда',\n",
       "       'Договоры для акселератора/Договоры аренды',\n",
       "       'Договоры для акселератора/Договоры купли-продажи'], dtype=object)"
      ]
     },
     "execution_count": 115,
     "metadata": {},
     "output_type": "execute_result"
    }
   ],
   "source": [
    "labels['class'].unique()"
   ]
  },
  {
   "cell_type": "code",
   "execution_count": 197,
   "id": "02ab486f",
   "metadata": {},
   "outputs": [],
   "source": [
    "labels['class'] = labels['class'].map({'Договоры для акселератора/Договоры поставки':'Поставки',\n",
    "       'Договоры для акселератора/Договоры оказания услуг':'Услуги',\n",
    "       'Договоры для акселератора/Договоры подряда': 'Подряд',\n",
    "       'Договоры для акселератора/Договоры аренды':'Аренда',\n",
    "       'Договоры для акселератора/Договоры купли-продажи':'Купля-продажа'})"
   ]
  },
  {
   "cell_type": "code",
   "execution_count": 128,
   "id": "fb434027",
   "metadata": {},
   "outputs": [
    {
     "data": {
      "text/plain": [
       "array(['doc', 'docx', 'pdf', 'rtf'], dtype=object)"
      ]
     },
     "execution_count": 128,
     "metadata": {},
     "output_type": "execute_result"
    }
   ],
   "source": [
    "labels['extension'].unique()"
   ]
  },
  {
   "cell_type": "code",
   "execution_count": 129,
   "id": "fbdb0258",
   "metadata": {},
   "outputs": [
    {
     "name": "stdout",
     "output_type": "stream",
     "text": [
      "doc файлов: 81\n",
      "docx файлов: 22\n",
      "pdf файлов: 13\n",
      "rtf файлов: 4\n"
     ]
    }
   ],
   "source": [
    "for ext in labels['extension'].unique():\n",
    "    print('{} файлов: {}'.format(ext, labels[labels['extension']==ext].shape[0]))"
   ]
  },
  {
   "cell_type": "code",
   "execution_count": 136,
   "id": "f14d7252",
   "metadata": {},
   "outputs": [],
   "source": [
    "# меняем doc extensions на docx, т.к. ранее произвели конвертацию\n",
    "for (i, fn), ext in zip(enumerate(labels['filename']), labels['extension']):\n",
    "    if ext == 'doc':\n",
    "        labels.loc[i, 'filename'] += 'x'"
   ]
  },
  {
   "cell_type": "code",
   "execution_count": 198,
   "id": "cf7f86b4",
   "metadata": {},
   "outputs": [
    {
     "data": {
      "text/html": [
       "<div>\n",
       "<style scoped>\n",
       "    .dataframe tbody tr th:only-of-type {\n",
       "        vertical-align: middle;\n",
       "    }\n",
       "\n",
       "    .dataframe tbody tr th {\n",
       "        vertical-align: top;\n",
       "    }\n",
       "\n",
       "    .dataframe thead th {\n",
       "        text-align: right;\n",
       "    }\n",
       "</style>\n",
       "<table border=\"1\" class=\"dataframe\">\n",
       "  <thead>\n",
       "    <tr style=\"text-align: right;\">\n",
       "      <th></th>\n",
       "      <th>filename</th>\n",
       "      <th>class</th>\n",
       "      <th>extension</th>\n",
       "      <th>abs_path</th>\n",
       "    </tr>\n",
       "  </thead>\n",
       "  <tbody>\n",
       "    <tr>\n",
       "      <th>0</th>\n",
       "      <td>5908cb5da047d6c9e6dfea6337fb3189.docx</td>\n",
       "      <td>Поставки</td>\n",
       "      <td>doc</td>\n",
       "      <td>/Users/mayabikmetova/xmas/hacka-aka-embedika/d...</td>\n",
       "    </tr>\n",
       "    <tr>\n",
       "      <th>1</th>\n",
       "      <td>14711e4fc8e56f0c75856c8837ec04cb.docx</td>\n",
       "      <td>Поставки</td>\n",
       "      <td>doc</td>\n",
       "      <td>/Users/mayabikmetova/xmas/hacka-aka-embedika/d...</td>\n",
       "    </tr>\n",
       "    <tr>\n",
       "      <th>2</th>\n",
       "      <td>7eb67b5aecf3f3190aab0a5f8ea32172.docx</td>\n",
       "      <td>Поставки</td>\n",
       "      <td>docx</td>\n",
       "      <td>/Users/mayabikmetova/xmas/hacka-aka-embedika/d...</td>\n",
       "    </tr>\n",
       "    <tr>\n",
       "      <th>3</th>\n",
       "      <td>b40a9d048b199d5f4db62a6a2335f2a0.pdf</td>\n",
       "      <td>Поставки</td>\n",
       "      <td>pdf</td>\n",
       "      <td>/Users/mayabikmetova/xmas/hacka-aka-embedika/d...</td>\n",
       "    </tr>\n",
       "    <tr>\n",
       "      <th>4</th>\n",
       "      <td>84fec112d02288861e7af59f468131fb.docx</td>\n",
       "      <td>Поставки</td>\n",
       "      <td>docx</td>\n",
       "      <td>/Users/mayabikmetova/xmas/hacka-aka-embedika/d...</td>\n",
       "    </tr>\n",
       "    <tr>\n",
       "      <th>...</th>\n",
       "      <td>...</td>\n",
       "      <td>...</td>\n",
       "      <td>...</td>\n",
       "      <td>...</td>\n",
       "    </tr>\n",
       "    <tr>\n",
       "      <th>115</th>\n",
       "      <td>f57fe87f15a6dee2b17e804421be63b5.pdf</td>\n",
       "      <td>Купля-продажа</td>\n",
       "      <td>pdf</td>\n",
       "      <td>/Users/mayabikmetova/xmas/hacka-aka-embedika/d...</td>\n",
       "    </tr>\n",
       "    <tr>\n",
       "      <th>116</th>\n",
       "      <td>1ea8809d696a4bd6a2076fbc6fd28c23.docx</td>\n",
       "      <td>Купля-продажа</td>\n",
       "      <td>doc</td>\n",
       "      <td>/Users/mayabikmetova/xmas/hacka-aka-embedika/d...</td>\n",
       "    </tr>\n",
       "    <tr>\n",
       "      <th>117</th>\n",
       "      <td>57962abd8dbe0ce0c7056896ee4501f1.docx</td>\n",
       "      <td>Купля-продажа</td>\n",
       "      <td>doc</td>\n",
       "      <td>/Users/mayabikmetova/xmas/hacka-aka-embedika/d...</td>\n",
       "    </tr>\n",
       "    <tr>\n",
       "      <th>118</th>\n",
       "      <td>2c81df29db63aebf495106881a52188f.docx</td>\n",
       "      <td>Купля-продажа</td>\n",
       "      <td>doc</td>\n",
       "      <td>/Users/mayabikmetova/xmas/hacka-aka-embedika/d...</td>\n",
       "    </tr>\n",
       "    <tr>\n",
       "      <th>119</th>\n",
       "      <td>0ca2f9faecdbc67d6686a9f5b6636eba.docx</td>\n",
       "      <td>Купля-продажа</td>\n",
       "      <td>doc</td>\n",
       "      <td>/Users/mayabikmetova/xmas/hacka-aka-embedika/d...</td>\n",
       "    </tr>\n",
       "  </tbody>\n",
       "</table>\n",
       "<p>120 rows × 4 columns</p>\n",
       "</div>"
      ],
      "text/plain": [
       "                                  filename          class extension  \\\n",
       "0    5908cb5da047d6c9e6dfea6337fb3189.docx       Поставки       doc   \n",
       "1    14711e4fc8e56f0c75856c8837ec04cb.docx       Поставки       doc   \n",
       "2    7eb67b5aecf3f3190aab0a5f8ea32172.docx       Поставки      docx   \n",
       "3     b40a9d048b199d5f4db62a6a2335f2a0.pdf       Поставки       pdf   \n",
       "4    84fec112d02288861e7af59f468131fb.docx       Поставки      docx   \n",
       "..                                     ...            ...       ...   \n",
       "115   f57fe87f15a6dee2b17e804421be63b5.pdf  Купля-продажа       pdf   \n",
       "116  1ea8809d696a4bd6a2076fbc6fd28c23.docx  Купля-продажа       doc   \n",
       "117  57962abd8dbe0ce0c7056896ee4501f1.docx  Купля-продажа       doc   \n",
       "118  2c81df29db63aebf495106881a52188f.docx  Купля-продажа       doc   \n",
       "119  0ca2f9faecdbc67d6686a9f5b6636eba.docx  Купля-продажа       doc   \n",
       "\n",
       "                                              abs_path  \n",
       "0    /Users/mayabikmetova/xmas/hacka-aka-embedika/d...  \n",
       "1    /Users/mayabikmetova/xmas/hacka-aka-embedika/d...  \n",
       "2    /Users/mayabikmetova/xmas/hacka-aka-embedika/d...  \n",
       "3    /Users/mayabikmetova/xmas/hacka-aka-embedika/d...  \n",
       "4    /Users/mayabikmetova/xmas/hacka-aka-embedika/d...  \n",
       "..                                                 ...  \n",
       "115  /Users/mayabikmetova/xmas/hacka-aka-embedika/d...  \n",
       "116  /Users/mayabikmetova/xmas/hacka-aka-embedika/d...  \n",
       "117  /Users/mayabikmetova/xmas/hacka-aka-embedika/d...  \n",
       "118  /Users/mayabikmetova/xmas/hacka-aka-embedika/d...  \n",
       "119  /Users/mayabikmetova/xmas/hacka-aka-embedika/d...  \n",
       "\n",
       "[120 rows x 4 columns]"
      ]
     },
     "execution_count": 198,
     "metadata": {},
     "output_type": "execute_result"
    }
   ],
   "source": [
    "labels"
   ]
  },
  {
   "cell_type": "code",
   "execution_count": 139,
   "id": "a25014b5",
   "metadata": {},
   "outputs": [],
   "source": [
    "for FILE in labels['filename']:\n",
    "    if FILE.split('.')[1] == 'doc':\n",
    "        print(FILE)"
   ]
  },
  {
   "cell_type": "code",
   "execution_count": 175,
   "id": "b54eec62",
   "metadata": {},
   "outputs": [],
   "source": [
    "def text_from_docx(filename):\n",
    "    doc = docx.Document(filename)\n",
    "    fullText = []\n",
    "    \n",
    "    for para in doc.paragraphs:\n",
    "        fullText.append(para.text)\n",
    "        \n",
    "    return '\\n'.join(fullText)"
   ]
  },
  {
   "cell_type": "code",
   "execution_count": 176,
   "id": "3d621fc8",
   "metadata": {},
   "outputs": [],
   "source": [
    "def text_from_pdf(filename):\n",
    "    reader = PdfReader(filename)\n",
    "    \n",
    "    num_pages = reader.getNumPages()\n",
    "    text_pages = []\n",
    "\n",
    "    for i in range(num_pages):\n",
    "        page = reader.pages[i].extract_text()\n",
    "        text_pages.append(page)\n",
    "    \n",
    "    return ''.join(text_pages)"
   ]
  },
  {
   "cell_type": "code",
   "execution_count": 177,
   "id": "32cd8e78",
   "metadata": {},
   "outputs": [],
   "source": [
    "def text_from_rtf(filename):\n",
    "    with open(filename) as f:\n",
    "        content = f.read()\n",
    "        return rtf_to_text(content)"
   ]
  },
  {
   "cell_type": "code",
   "execution_count": 240,
   "id": "2e0f1bc3",
   "metadata": {},
   "outputs": [],
   "source": [
    "class FileTypeError(Exception):\n",
    "    def __init__(self, msg='Неверный тип файла! Допустимые типы: doc, docx, pdf, rtf.'):\n",
    "        super().__init__(msg)\n",
    "\n",
    "\n",
    "def extract_text(path):\n",
    "    \"\"\"\n",
    "    Функция для выделения текста из документы. Допустимые типы файлов: doc, docx, pdf, rtf.\n",
    "    \n",
    "    Параметры:\n",
    "        path: Путь к обрабатываемому файлу.\n",
    "    \"\"\"\n",
    "    func_dict = {'docx': text_from_docx, 'pdf': text_from_pdf, 'rtf': text_from_rtf}\n",
    "    \n",
    "    try:\n",
    "        filename = os.path.basename(path)\n",
    "        extension = filename.split('.')[1]\n",
    "\n",
    "        print('Обрабатывается файл ', path)\n",
    "\n",
    "        if extension not in ['doc', 'docx', 'pdf', 'rtf']:\n",
    "            raise FileTypeError\n",
    "        else:\n",
    "            text = func_dict[extension](path)\n",
    "\n",
    "            return text\n",
    "    except Exception as e:\n",
    "        print(e)"
   ]
  },
  {
   "cell_type": "code",
   "execution_count": 235,
   "id": "21ffab05",
   "metadata": {},
   "outputs": [
    {
     "name": "stdout",
     "output_type": "stream",
     "text": [
      "Обрабатывается файл  ./hacka-aka-embedika/classes.json\n",
      "Неверный тип файла! Допустимые типы: doc, docx, pdf, rtf.\n"
     ]
    }
   ],
   "source": [
    "# проверяем исключение\n",
    "extract_text('./hacka-aka-embedika/classes.json')"
   ]
  },
  {
   "cell_type": "code",
   "execution_count": 236,
   "id": "759be267",
   "metadata": {},
   "outputs": [
    {
     "name": "stdout",
     "output_type": "stream",
     "text": [
      "Обрабатывается файл  ./hacka-aka-embedika/docs/086ad48895d2a73854b6151decc28800.pdf\n"
     ]
    },
    {
     "data": {
      "text/plain": [
       "'(Типовая форма)  \\nДОГОВОР КУПЛИ -ПРОДАЖИ №_____  \\n \\nг. Москва         «___» ________  20___ г. \\nАкционерное общество «Государственная транспортная лизинговая компания»  \\n(АО «ГТЛК»)  именуемое в дальнейшем « Продавец », в лице ________, действующей на \\nосновании ________, с одной стороны, и ________ , именуемое в дальнейшем \\n«Покупатель» , в лице ________, действующего на основании ________, с другой стороны, \\nименуемые по отдельности « Сторона », а вместе именуемые « Стороны », заключили \\nнастоящи й договор (далее – «Договор ») о нижеследующем:  \\n \\n1. Предмет  Договора  \\n \\n1.1. В соответствии с настоящим договором Продавец обязуется передать в \\nсобственность Покупателя бывшее в употреблении имущество (далее по тексту Договора – \\n«Товар »), указанное в Спецификации (Приложение № 1 к Договору), а Покупатель \\nобязуется оплатить и принять Товар на условиях и в сроки, установленные настоящим \\nДоговором.  \\nПеречень Товара, количество и ассортимент приведены в Приложении №1 к Договору, \\nкоторое является его неотъем лемой частью.   \\n1.2. На момент передачи Покупателю Товар находится в собственности Продавца, не \\nобременен правами третьих лиц, в споре и под арестом не состоит.  \\n1.3. Качественное состояние Товара может не соответствовать нормальному износу \\nТовара. Покупат ель соглашается приобрести Товар в том качественном состоянии, в \\nкотором он находится на момент передачи с учетом всех видимых дефектов, повреждений \\nи скрытых дефектов. Наличие видимых дефектов и повреждений Товара не является \\nоснованием для отказа Покупат еля от приемки Товара. Товар может быть непригоден для \\nиспользования по прямому назначению без соответствующего восстановительного  \\nремонта.  \\n \\n2. Стоимость Товара и порядок расчетов  \\n \\n2.1. Общая стоимость Товара составляет ________ ( ___ руб. ___ коп.) , в том числе \\nНДС 20% _____________ (______) рублей. . \\n 2.2. П окупателем внесено обеспечение исполнения обязательств (в том числе из \\nсредств, оплаченных в счет обеспечения заявки) в сумме ________ ( ___ руб. ___ коп.) по \\nнастоящему Договору, являющейся обеспечительным платежом.  \\n 2.3. Разницу в размере ________ ( ___ руб. ___ коп.) между стоимостью Товара, \\nуказанной в пункте 2.1 настоящего Договора, и суммой внесенного обеспечения \\nПокупатель обязан уплатить Продавцу единовременно в безналичном порядке на \\nрасчетный счет Продавца, в течение 5 рабочих дней с момента заклю чения настоящего \\nДоговора.  \\nПри неисполнении Покупателем обязанности по уплате указанной разницы сумма \\nобеспечения остается у Продавца. При оплате указанной разницы в полном объеме, сумма \\nобеспечения засчитывается в счет оплаты по Договору.  \\n 2.4. Платеж по Договору производится в безналичной форме на расчетный счет \\nПродавца.  \\n 2.5. Датой платежа считается дата зачисления денежных средств на расчетный счет \\nПродавца.  \\n \\n \\n 3. Порядок  передачи Товара  \\n \\n3.1. Датой передачи Товара считается дата подписания Акта приема -передачи Товара \\nуполномоченными представителями Продавца и Покупателя. Форма Акта приема -передачи \\nпредставлена в Приложении № 2 к Договору.  \\n3.2. Продавец обязуется передать Товар Покупателю в течение 5 (пяти) рабочих дней \\nс даты оплаты Товара Покупателем сог ласно п.2.3 Договора. Передача Товара Покупателю \\nосуществляется на складе Продавца по адресу:  _______ _____________________________ _. \\nПо результатам приемки Стороны подписывают Акт приема -передачи. Одновременно с \\nТоваром Продавец обязан передать Покупателю товарную накладную ТОРГ -12 и счет -\\nфактуру.  \\n3.3. Право собственности на Товар переходит от Продавца к Покупателю после \\nполной оплаты стоимости в день передачи Товара по Акту приема -передачи.  \\n3.4. Покупатель обязуется после приемки Товара своими силами и за свой счет \\nвывезти Товар со склада Продавца в срок не позднее 1 (одного) календарного дня с даты \\nподписания Акта приема -передачи Товара.  \\n \\n4. Ответственность  Сторон  \\n \\n4.1. Гарантия Продавца на Товар не предоставляется.  \\n4.2. Товар передается Покупателю в том техническом состоянии, в котором он \\nнаходится на момент передачи. Продавец не несет ответственности за скрытые \\nповреждения Товара, обнаруженные после его передачи.  \\n4.3. В случае просрочки оплаты Товара Продавец имеет право потребовать от \\nПокупателя неустой ку в виде пени в размере 0,1% от общей стоимости Товара за каждый \\nдень просрочки оплаты, но не более 25% от общей стоимости Товара.  \\n4.4. Убытки Продавца подлежат возмещению сверх суммы неустойки.  \\n4.5. Продавец имеет право на односторонний отказ от исполнен ия Договора в случае \\nнарушения Покупателем сроков оплаты Товара на срок более 5 (пяти) календарных дней.  \\nПри этом, ранее внесенный Покупателем сумма обеспечения, указанная в п. 2.2., \\nвозврату не подлежит.  \\nВ этом случае Договор считается расторгнутым с моме нта получения Покупателем  \\nуведомления Продавца об одностороннем отказе от исполнения Договора.  \\n4.6. В случае расторжения Договора Покупатель возмещает убытки Продавцу в \\nтечение 5 (пяти) дней с момента расторжения Договора.  \\n4.7. В случае отказа Покупателя от исполнения договора, ранее внесенная \\nПокупателем сумма обеспечения, указанная в п. 2.2., возврату не подлежит.  \\n \\n5. Разрешение споров  \\n \\n5.1. Спор, возникающий из настоящего Договора, подлежит передаче на разрешение в \\nарбитражный суд г. Москвы после принятия Сторонами мер по досудебному \\nурегулированию по истечении 10 (Десяти) рабочих дней со дня получения претензии \\n(требования).  \\n \\n6. Срок  действия Договора  \\n \\n6.1. Договор вступает в силу с момента его подписания и действует до полного \\nисполнения Сторонами своих обяз ательств по настоящему Договору.  \\n \\n \\n  \\n7. Дополнительные  условия  \\n7.1. Любой обмен документами между Сторонами осуществляется по факсу или \\nценным письмом с описью вложения и уведомлением о вручении или курьером. Оригиналы \\nфинансовых документов подлежат пересылке адресату заказной почтой.  \\n7.2. После подписания настоящего  Договора все предыдущие письменные и устные \\nсоглашения, результаты переговоров, переписка между Сторонами, относящиеся к \\nнастоящему Договору, утрачивают силу в части, противоречащей условиям настоящего \\nДоговора.  \\n7.3. Стороны согласовали, что обмен докумен тами в рамках исполнения настоящего \\nДоговора, может также осуществляться путем обмена электронными документами, \\nподписываемыми квалифицированной электронной цифровой подписью с использованием \\nсервиса обмена электронными документами «Диадок» либо иного серв иса, в котором \\nвозможно использование роуминга с сервисом «Диадок», если иной порядок согласования \\nи направления документов прямо не предусмотрен законодательством Российской \\nФедерации или условиями Договора. Подписанный с использованием квалифицированной \\nэлектронной цифровой подписью электронный документ признается равнозначным \\nаналогичному подписанному собственноручно документу на бумажном носителе и \\nзаверенному печатью и порождает для Сторон соответствующие юридические последствия. \\nСтороны, при необходим ости, вправе заключить отдельное Соглашение об использовании \\nэлектронных документов, регулирующие вопросы обмена такими документами по \\nзаключенным между ними договорам.  \\n7.4. Настоящий договор составлен в 2 (Двух ) экземплярах, имеющих равную \\nюридическую сил у: 1 (Один) экземпляр – для Продавца, 1 (Один) – для Покупателя.  \\n \\n8. Антикоррупционная оговорка  \\n \\n8.1. Каждая Сторона настоящим гарантирует, что с момента начала переговоров о \\nзаключении настоящего Договора ни она сама, ни члены ее органов управления, \\nдолжност ные лица или работники не предлагали, не обещали, не предоставляли, не \\nразрешали, не требовали и не принимали каких -либо неправомерных денежных или иных \\nпреимуществ какого -либо рода (и не создавали впечатления, что они совершат или могут \\nсовершить подобные  действия когда -либо в будущем), каким -либо образом связанных с \\nДоговором, а также что ею были приняты разумные меры для недопущения подобных \\nдействий со стороны субподрядчиков, агентов и иных третьих лиц, находящихся под её \\nконтролем или определяющим влия нием.  \\n8.2. Стороны обязуются с момента начала переговоров о заключении настоящего \\nДоговора и, как минимум, в течение трех лет с момента прекращения действия настоящего \\nДоговора соблюдать часть I «Правил ICC по борьбе с коррупцией 2011 года», которая \\nнастоя щим включена в Договор путём ссылки, как если бы она была изложена в Договоре \\nв полном объёме, и обязуются принять разумные меры для обеспечения её соблюдения \\nсвоими субподрядчиками, агентами и иными третьими лицами, находящимися под их \\nконтролем или опред еляющим влиянием.  \\n8.3. Если какая -либо из Сторон получит доказательства того, что другая Сторона \\nдопустила существенное или неоднократное нарушение положений части I «Правил ICC по \\nборьбе с коррупцией 2011 года», то обнаружившая нарушение Сторона  соответс твующим \\nобразом уведомит нарушившую Сторону и потребует от нее в разумные сроки принять \\nнеобходимые меры для устранения нарушений и сообщить всем контрагентам об этом \\nфакте. В случае непринятия нарушившей Стороной необходимых мер для устранения \\nнарушений и ли невозможности принятия подобных мер, она вправе ссылаться в качестве \\nвозражений на то, что к моменту появления доказательств нарушения( -ий) ею были \\nприняты достаточные превентивные антикоррупционные меры, указанные в статье 10 «Правил ICC по борьбе с ко ррупцией 2011 года», разработанные с учётом конкретных \\nобстоятельств и позволяющие выявлять факты коррупции и продвигать культуру \\nсоблюдения правил деловой этики в организации. В случае непринятия мер по устранению \\nнарушений или (в зависимости от ситуации)  непредставления убедительных доказательств \\nвозражений, обнаружившая нарушения Сторона вправе по своему усмотрению взыскать с \\nнарушившей Стороны неустойку в виде штрафа в размере 1  000 000 (Один миллион) рублей \\nза каждый выявленный случай, а также требоват ь возмещения убытков. Убытки подлежат \\nвозмещению сверх неустойки.  \\n \\n \\n9. Адреса и реквизиты Сторон  \\n \\nНаименование  Продавец:  Покупатель:  \\nАО «ГТЛК»   \\nМесто нахождения  Российская Федерация, Ямало -\\nНенецкий автономный округ, \\nгород Салехард   \\nАдрес юридического лица  629008, Ямало -Ненецкий \\nавтономный округ, город \\nСалехард, улица Республики, дом \\n73, комната 100   \\nАдрес для корреспонденции  125284, г. Москва, Ленинградский \\nпроспект, д. 31а, строение 1   \\nАдрес обособленного \\nподразделения в г. Москва  125284, г. Москва, Ленинградский \\nпроспект, д. 31а,  строение 1   \\nИНН / КПП  7720261827/  997950001   \\nОКПО  57992197   \\nтел., факс, электронный \\nадрес  (495)221 -00-12 \\n(495)221 -00-31, www .gtlk.ru  \\nРасчетный счет    \\nБанк    \\nБИК    \\nКорр. счет    \\n   \\nПОДПИСИ СТОРОН:  \\nот имени Продавца : от имени Покупателя:  \\n  \\n \\n__________________/ ________ /         \\n       _________________/  ________  / \\n                  (подпись)  \\nМ.П.                        (подпись)  \\n         М.П.  \\n \\n \\n \\n \\n \\n \\n \\n \\n \\n \\n Приложение № 1  \\nк Договору купли -продажи № ________  \\nот «___»________  20___ г. \\n \\n \\n       \\nСПЕЦИФИКАЦИЯ  \\n \\n \\nУсловия доставки: самовывоз  за счет покупателя.  \\n \\n \\n \\nПродавец  \\nАО «ГТЛК»  Покупатель  \\n \\n \\n \\n \\n_____________________ ________  \\nм.п.  \\n \\n \\n____________________  ________  \\nм.п. \\n \\n \\n \\n \\n \\n \\n \\n \\n \\n \\n \\n \\n \\n \\n \\n \\n \\n \\n \\n \\n \\n \\n \\n \\n № Наименование Товара  Год \\nвыпус\\nка Заводской \\nномер/ VIN Коли\\nчеств\\nо, ед.  Цена \\nединицы \\nТовара, руб. \\nв т.ч. НДС  Общая \\nстоимость, \\nруб. в т.ч. \\nНДС  \\n1       \\n Итого:       Приложение № 2  \\nк Договору купли -продажи №________  \\nот «___»________ 20___г.  \\n \\n \\nА К Т № ___ \\nприема – передачи Товара  \\n к Договору купли -продажи № _________  от «____ » ____________ 20___ г.  \\n \\n   г. ________                                                                 «___» __________  20___ г. \\n \\nАкционерное общество «Государственная транспортная лизинговая компания» , \\nименуемое в дальнейшем « Продавец », в лице \\n_____________________________________________, действующего на основании \\n___________________с  одной стороны,  \\n____________________________________  именуемое в дальнейшем « Покупатель », в \\nлице ______________________________, действующего на основании _______ ________с \\nдругой стороны, именуемые по отдельности « Сторона », а вместе именуемые « Стороны », \\nсоставили настоящий Акт о нижеследующем:  \\n \\n1. Продавец передал, а Покупатель принял Товар в количестве ___________ \\nединиц в собственность со всеми необходимыми документ ами,  всего на общую сумму:   \\n________________ р ублей, в том числе НДС  20% – _____________ рублей.  \\n \\n \\n \\n2. Покупатель подтверждает, что у него нет претензий к Продавцу по качеству, \\nкомплектности и техническому состоянию Товара.  \\n3. Настоящий Акт составлен в 2 (Двух) экземплярах, имеющих равную \\nюридическую силу: 1 (Один) экземпляр – для Продавца, 1 (Один) – для Покупателя . \\n \\n \\n \\n \\nПродавец  \\nАО «ГТЛК»  Покупатель  \\n \\n \\n \\n_____________________ ________  \\nм.п.  \\n \\n____________________  ________  \\nм.п. \\n № Наименование Товара  Год \\nвыпуска  Заводской \\nномер/ VIN Колич\\nество, \\nед. Цена единицы \\nТовара, руб. в \\nт.ч. НДС  Общая \\nстоимость, \\nруб. в т.ч. \\nНДС  \\n       \\n       \\n        \\n  Итого:       '"
      ]
     },
     "execution_count": 236,
     "metadata": {},
     "output_type": "execute_result"
    }
   ],
   "source": [
    "extract_text('./hacka-aka-embedika/docs/086ad48895d2a73854b6151decc28800.pdf')"
   ]
  },
  {
   "cell_type": "code",
   "execution_count": null,
   "id": "3ca10a5f",
   "metadata": {},
   "outputs": [],
   "source": []
  },
  {
   "cell_type": "code",
   "execution_count": 190,
   "id": "bfbe8a53",
   "metadata": {},
   "outputs": [
    {
     "name": "stdout",
     "output_type": "stream",
     "text": [
      "CPU times: user 1.31 ms, sys: 782 µs, total: 2.09 ms\n",
      "Wall time: 1.89 ms\n"
     ]
    }
   ],
   "source": [
    "labels['abs_path'] = labels['filename'].apply(lambda x: DOC_PATH+'/'+x)"
   ]
  },
  {
   "cell_type": "code",
   "execution_count": 199,
   "id": "38f0bbf5",
   "metadata": {},
   "outputs": [
    {
     "data": {
      "text/html": [
       "<div>\n",
       "<style scoped>\n",
       "    .dataframe tbody tr th:only-of-type {\n",
       "        vertical-align: middle;\n",
       "    }\n",
       "\n",
       "    .dataframe tbody tr th {\n",
       "        vertical-align: top;\n",
       "    }\n",
       "\n",
       "    .dataframe thead th {\n",
       "        text-align: right;\n",
       "    }\n",
       "</style>\n",
       "<table border=\"1\" class=\"dataframe\">\n",
       "  <thead>\n",
       "    <tr style=\"text-align: right;\">\n",
       "      <th></th>\n",
       "      <th>filename</th>\n",
       "      <th>class</th>\n",
       "      <th>extension</th>\n",
       "      <th>abs_path</th>\n",
       "    </tr>\n",
       "  </thead>\n",
       "  <tbody>\n",
       "    <tr>\n",
       "      <th>0</th>\n",
       "      <td>5908cb5da047d6c9e6dfea6337fb3189.docx</td>\n",
       "      <td>Поставки</td>\n",
       "      <td>doc</td>\n",
       "      <td>/Users/mayabikmetova/xmas/hacka-aka-embedika/d...</td>\n",
       "    </tr>\n",
       "    <tr>\n",
       "      <th>1</th>\n",
       "      <td>14711e4fc8e56f0c75856c8837ec04cb.docx</td>\n",
       "      <td>Поставки</td>\n",
       "      <td>doc</td>\n",
       "      <td>/Users/mayabikmetova/xmas/hacka-aka-embedika/d...</td>\n",
       "    </tr>\n",
       "    <tr>\n",
       "      <th>2</th>\n",
       "      <td>7eb67b5aecf3f3190aab0a5f8ea32172.docx</td>\n",
       "      <td>Поставки</td>\n",
       "      <td>docx</td>\n",
       "      <td>/Users/mayabikmetova/xmas/hacka-aka-embedika/d...</td>\n",
       "    </tr>\n",
       "    <tr>\n",
       "      <th>3</th>\n",
       "      <td>b40a9d048b199d5f4db62a6a2335f2a0.pdf</td>\n",
       "      <td>Поставки</td>\n",
       "      <td>pdf</td>\n",
       "      <td>/Users/mayabikmetova/xmas/hacka-aka-embedika/d...</td>\n",
       "    </tr>\n",
       "    <tr>\n",
       "      <th>4</th>\n",
       "      <td>84fec112d02288861e7af59f468131fb.docx</td>\n",
       "      <td>Поставки</td>\n",
       "      <td>docx</td>\n",
       "      <td>/Users/mayabikmetova/xmas/hacka-aka-embedika/d...</td>\n",
       "    </tr>\n",
       "    <tr>\n",
       "      <th>...</th>\n",
       "      <td>...</td>\n",
       "      <td>...</td>\n",
       "      <td>...</td>\n",
       "      <td>...</td>\n",
       "    </tr>\n",
       "    <tr>\n",
       "      <th>115</th>\n",
       "      <td>f57fe87f15a6dee2b17e804421be63b5.pdf</td>\n",
       "      <td>Купля-продажа</td>\n",
       "      <td>pdf</td>\n",
       "      <td>/Users/mayabikmetova/xmas/hacka-aka-embedika/d...</td>\n",
       "    </tr>\n",
       "    <tr>\n",
       "      <th>116</th>\n",
       "      <td>1ea8809d696a4bd6a2076fbc6fd28c23.docx</td>\n",
       "      <td>Купля-продажа</td>\n",
       "      <td>doc</td>\n",
       "      <td>/Users/mayabikmetova/xmas/hacka-aka-embedika/d...</td>\n",
       "    </tr>\n",
       "    <tr>\n",
       "      <th>117</th>\n",
       "      <td>57962abd8dbe0ce0c7056896ee4501f1.docx</td>\n",
       "      <td>Купля-продажа</td>\n",
       "      <td>doc</td>\n",
       "      <td>/Users/mayabikmetova/xmas/hacka-aka-embedika/d...</td>\n",
       "    </tr>\n",
       "    <tr>\n",
       "      <th>118</th>\n",
       "      <td>2c81df29db63aebf495106881a52188f.docx</td>\n",
       "      <td>Купля-продажа</td>\n",
       "      <td>doc</td>\n",
       "      <td>/Users/mayabikmetova/xmas/hacka-aka-embedika/d...</td>\n",
       "    </tr>\n",
       "    <tr>\n",
       "      <th>119</th>\n",
       "      <td>0ca2f9faecdbc67d6686a9f5b6636eba.docx</td>\n",
       "      <td>Купля-продажа</td>\n",
       "      <td>doc</td>\n",
       "      <td>/Users/mayabikmetova/xmas/hacka-aka-embedika/d...</td>\n",
       "    </tr>\n",
       "  </tbody>\n",
       "</table>\n",
       "<p>120 rows × 4 columns</p>\n",
       "</div>"
      ],
      "text/plain": [
       "                                  filename          class extension  \\\n",
       "0    5908cb5da047d6c9e6dfea6337fb3189.docx       Поставки       doc   \n",
       "1    14711e4fc8e56f0c75856c8837ec04cb.docx       Поставки       doc   \n",
       "2    7eb67b5aecf3f3190aab0a5f8ea32172.docx       Поставки      docx   \n",
       "3     b40a9d048b199d5f4db62a6a2335f2a0.pdf       Поставки       pdf   \n",
       "4    84fec112d02288861e7af59f468131fb.docx       Поставки      docx   \n",
       "..                                     ...            ...       ...   \n",
       "115   f57fe87f15a6dee2b17e804421be63b5.pdf  Купля-продажа       pdf   \n",
       "116  1ea8809d696a4bd6a2076fbc6fd28c23.docx  Купля-продажа       doc   \n",
       "117  57962abd8dbe0ce0c7056896ee4501f1.docx  Купля-продажа       doc   \n",
       "118  2c81df29db63aebf495106881a52188f.docx  Купля-продажа       doc   \n",
       "119  0ca2f9faecdbc67d6686a9f5b6636eba.docx  Купля-продажа       doc   \n",
       "\n",
       "                                              abs_path  \n",
       "0    /Users/mayabikmetova/xmas/hacka-aka-embedika/d...  \n",
       "1    /Users/mayabikmetova/xmas/hacka-aka-embedika/d...  \n",
       "2    /Users/mayabikmetova/xmas/hacka-aka-embedika/d...  \n",
       "3    /Users/mayabikmetova/xmas/hacka-aka-embedika/d...  \n",
       "4    /Users/mayabikmetova/xmas/hacka-aka-embedika/d...  \n",
       "..                                                 ...  \n",
       "115  /Users/mayabikmetova/xmas/hacka-aka-embedika/d...  \n",
       "116  /Users/mayabikmetova/xmas/hacka-aka-embedika/d...  \n",
       "117  /Users/mayabikmetova/xmas/hacka-aka-embedika/d...  \n",
       "118  /Users/mayabikmetova/xmas/hacka-aka-embedika/d...  \n",
       "119  /Users/mayabikmetova/xmas/hacka-aka-embedika/d...  \n",
       "\n",
       "[120 rows x 4 columns]"
      ]
     },
     "execution_count": 199,
     "metadata": {},
     "output_type": "execute_result"
    }
   ],
   "source": [
    "labels"
   ]
  },
  {
   "cell_type": "code",
   "execution_count": 201,
   "id": "8167f07d",
   "metadata": {},
   "outputs": [
    {
     "data": {
      "text/plain": [
       "'/Users/mayabikmetova/xmas/hacka-aka-embedika/docs/5908cb5da047d6c9e6dfea6337fb3189.docx'"
      ]
     },
     "execution_count": 201,
     "metadata": {},
     "output_type": "execute_result"
    }
   ],
   "source": [
    "labels['abs_path'][0]"
   ]
  },
  {
   "cell_type": "code",
   "execution_count": 241,
   "id": "8f973aca",
   "metadata": {},
   "outputs": [
    {
     "name": "stdout",
     "output_type": "stream",
     "text": [
      "Обрабатывается файл  /Users/mayabikmetova/xmas/hacka-aka-embedika/docs/5908cb5da047d6c9e6dfea6337fb3189.docx\n",
      "Обрабатывается файл  /Users/mayabikmetova/xmas/hacka-aka-embedika/docs/14711e4fc8e56f0c75856c8837ec04cb.docx\n",
      "Обрабатывается файл  /Users/mayabikmetova/xmas/hacka-aka-embedika/docs/7eb67b5aecf3f3190aab0a5f8ea32172.docx\n",
      "Обрабатывается файл  /Users/mayabikmetova/xmas/hacka-aka-embedika/docs/b40a9d048b199d5f4db62a6a2335f2a0.pdf\n",
      "Обрабатывается файл  /Users/mayabikmetova/xmas/hacka-aka-embedika/docs/84fec112d02288861e7af59f468131fb.docx\n",
      "Обрабатывается файл  /Users/mayabikmetova/xmas/hacka-aka-embedika/docs/f6377999f8a5aa9a09b03e428ac93153.docx\n",
      "Обрабатывается файл  /Users/mayabikmetova/xmas/hacka-aka-embedika/docs/a525f050cef10dee3a42468daec064ff.docx\n",
      "Обрабатывается файл  /Users/mayabikmetova/xmas/hacka-aka-embedika/docs/bec0aa38d1383172690a18d16b07f154.docx\n",
      "Обрабатывается файл  /Users/mayabikmetova/xmas/hacka-aka-embedika/docs/214d620d9c54bc83111277dd872d3cb2.pdf\n",
      "Обрабатывается файл  /Users/mayabikmetova/xmas/hacka-aka-embedika/docs/d143c89d002fcef3e2bd2efdb4966f55.docx\n",
      "Обрабатывается файл  /Users/mayabikmetova/xmas/hacka-aka-embedika/docs/2fd747f38e30ae7ce1c9d6e3b907ac5d.docx\n",
      "Обрабатывается файл  /Users/mayabikmetova/xmas/hacka-aka-embedika/docs/4c2c295e81f4a6c3e669e8f76c6ce423.docx\n",
      "Обрабатывается файл  /Users/mayabikmetova/xmas/hacka-aka-embedika/docs/64f58bc6e1207a570a38d771609b2cf1.docx\n",
      "Обрабатывается файл  /Users/mayabikmetova/xmas/hacka-aka-embedika/docs/7ecd641f2ad81961c17455ed3ebeb2ab.docx\n",
      "Обрабатывается файл  /Users/mayabikmetova/xmas/hacka-aka-embedika/docs/4e583dc5a5f1499fd2408f3152589f2d.docx\n",
      "Обрабатывается файл  /Users/mayabikmetova/xmas/hacka-aka-embedika/docs/79104075f8b2ff971d51c495e67af52c.pdf\n"
     ]
    },
    {
     "name": "stderr",
     "output_type": "stream",
     "text": [
      "incorrect startxref pointer(1)\n"
     ]
    },
    {
     "name": "stdout",
     "output_type": "stream",
     "text": [
      "Обрабатывается файл  /Users/mayabikmetova/xmas/hacka-aka-embedika/docs/19e2becdb0f10e1c16a5a2460f3a84a2.pdf\n",
      "Обрабатывается файл  /Users/mayabikmetova/xmas/hacka-aka-embedika/docs/0f7f507d0af90aba3c35484de016d8b4.docx\n",
      "Обрабатывается файл  /Users/mayabikmetova/xmas/hacka-aka-embedika/docs/69ab7557dee21939aa7432b23a54cb2b.docx\n",
      "Обрабатывается файл  /Users/mayabikmetova/xmas/hacka-aka-embedika/docs/8b82f3c800e486d9da9a13c98f7a40d6.docx\n",
      "Обрабатывается файл  /Users/mayabikmetova/xmas/hacka-aka-embedika/docs/856860329f573bbaf158e1eafa885ba5.docx\n",
      "Обрабатывается файл  /Users/mayabikmetova/xmas/hacka-aka-embedika/docs/35b6a0f57d909507c5aa9a8972b15f35.pdf\n",
      "Обрабатывается файл  /Users/mayabikmetova/xmas/hacka-aka-embedika/docs/f28d4a853be12515dae73a5912bc5b41.docx\n",
      "Обрабатывается файл  /Users/mayabikmetova/xmas/hacka-aka-embedika/docs/2c758805e2917306e6cbb079e2adcfcf.rtf\n",
      "Обрабатывается файл  /Users/mayabikmetova/xmas/hacka-aka-embedika/docs/4db6b233fda895c3bffcb5fdc5b8e1de.rtf\n",
      "Обрабатывается файл  /Users/mayabikmetova/xmas/hacka-aka-embedika/docs/18d573815c15b4e798bdfbfb52fb2f43.docx\n",
      "Start tag expected, '<' not found, line 1, column 1 (<string>, line 1)\n",
      "Обрабатывается файл  /Users/mayabikmetova/xmas/hacka-aka-embedika/docs/d54c0b06162cf7cf57e8b1e7356aa204.docx\n",
      "Обрабатывается файл  /Users/mayabikmetova/xmas/hacka-aka-embedika/docs/a69f5a60f3fd9a081cb0528dd461be45.docx\n",
      "Обрабатывается файл  /Users/mayabikmetova/xmas/hacka-aka-embedika/docs/41b36e9a90f36be9ed2a2b4f44e5c848.docx\n",
      "Обрабатывается файл  /Users/mayabikmetova/xmas/hacka-aka-embedika/docs/b19a67817142ea9f2231aa63dfd2981c.docx\n",
      "Обрабатывается файл  /Users/mayabikmetova/xmas/hacka-aka-embedika/docs/317e4552102e82bd9e17ba1205cd4367.docx\n",
      "Обрабатывается файл  /Users/mayabikmetova/xmas/hacka-aka-embedika/docs/67170dee29deff9bc80087a94aef7ea4.docx\n",
      "Обрабатывается файл  /Users/mayabikmetova/xmas/hacka-aka-embedika/docs/cbf3217807791a37499a7b8d94616fdc.docx\n",
      "Обрабатывается файл  /Users/mayabikmetova/xmas/hacka-aka-embedika/docs/259b481366842141111305897cce7486.docx\n",
      "Обрабатывается файл  /Users/mayabikmetova/xmas/hacka-aka-embedika/docs/6df1c02e4f9adaa9b87126dc3cb2d72b.docx\n",
      "Обрабатывается файл  /Users/mayabikmetova/xmas/hacka-aka-embedika/docs/eddc39f5f675890f285014c886bf22c9.docx\n",
      "Обрабатывается файл  /Users/mayabikmetova/xmas/hacka-aka-embedika/docs/2351cf256df1b683a425211c1ed0e848.docx\n",
      "Обрабатывается файл  /Users/mayabikmetova/xmas/hacka-aka-embedika/docs/85a65ecc4763c760f914382d6e26b1f1.docx\n",
      "Обрабатывается файл  /Users/mayabikmetova/xmas/hacka-aka-embedika/docs/e3f3df754bdf7578a71b7a9fa1500ad9.rtf\n",
      "Обрабатывается файл  /Users/mayabikmetova/xmas/hacka-aka-embedika/docs/0b4be82b86eff410d69d1d6b5553d220.docx\n",
      "Обрабатывается файл  /Users/mayabikmetova/xmas/hacka-aka-embedika/docs/736cc87395089b9611b0db70d2999d75.pdf\n"
     ]
    },
    {
     "name": "stderr",
     "output_type": "stream",
     "text": [
      "incorrect startxref pointer(1)\n"
     ]
    },
    {
     "name": "stdout",
     "output_type": "stream",
     "text": [
      "Обрабатывается файл  /Users/mayabikmetova/xmas/hacka-aka-embedika/docs/7ce2d613ac62ec5e4ef3d988c1f91582.docx\n",
      "Обрабатывается файл  /Users/mayabikmetova/xmas/hacka-aka-embedika/docs/2060962a8b7ca4c45dc041c3f624225a.docx\n",
      "Обрабатывается файл  /Users/mayabikmetova/xmas/hacka-aka-embedika/docs/b95bbf14eb26ac912b1339e321cbca34.docx\n",
      "Обрабатывается файл  /Users/mayabikmetova/xmas/hacka-aka-embedika/docs/910ccf7c9b029846e4390ddac5f8d687.docx\n",
      "Обрабатывается файл  /Users/mayabikmetova/xmas/hacka-aka-embedika/docs/82b672721c50b8897a3cf7c98c0d8e0c.rtf\n",
      "Обрабатывается файл  /Users/mayabikmetova/xmas/hacka-aka-embedika/docs/81a64023bdb74032827385d43181ea3a.pdf\n",
      "Обрабатывается файл  /Users/mayabikmetova/xmas/hacka-aka-embedika/docs/6cd62be718ceb49408c49e00e7b12a5e.docx\n",
      "Обрабатывается файл  /Users/mayabikmetova/xmas/hacka-aka-embedika/docs/f8eabec67b770c384d84f9feb7e02543.docx\n",
      "Обрабатывается файл  /Users/mayabikmetova/xmas/hacka-aka-embedika/docs/f96c2a58215aa54aeb6713cbb457fad9.docx\n",
      "Обрабатывается файл  /Users/mayabikmetova/xmas/hacka-aka-embedika/docs/02682d726b725f95b9ee85f751c043d0.docx\n",
      "Обрабатывается файл  /Users/mayabikmetova/xmas/hacka-aka-embedika/docs/62e280b12c607701866006e37ad990a5.docx\n",
      "Обрабатывается файл  /Users/mayabikmetova/xmas/hacka-aka-embedika/docs/d0e8ce466209873b70ddfdbacf0eef71.docx\n",
      "Обрабатывается файл  /Users/mayabikmetova/xmas/hacka-aka-embedika/docs/6b18c046e7ccfdaf9123c11980f56c35.docx\n",
      "Обрабатывается файл  /Users/mayabikmetova/xmas/hacka-aka-embedika/docs/641282d3072e91ab05c97110e0340020.docx\n",
      "Обрабатывается файл  /Users/mayabikmetova/xmas/hacka-aka-embedika/docs/49bce5af1c98cd017a310ea8edd3e55b.docx\n",
      "Обрабатывается файл  /Users/mayabikmetova/xmas/hacka-aka-embedika/docs/7a120d4c7cec157324effa671e2d0812.docx\n",
      "Обрабатывается файл  /Users/mayabikmetova/xmas/hacka-aka-embedika/docs/7aff676ead9fe323b2c542e60accb1ae.docx\n",
      "Обрабатывается файл  /Users/mayabikmetova/xmas/hacka-aka-embedika/docs/b7acf29be1d3e4b9cb529683e676fadb.docx\n",
      "Обрабатывается файл  /Users/mayabikmetova/xmas/hacka-aka-embedika/docs/6babd660f1a9192017a06b7e93bea919.docx\n",
      "Обрабатывается файл  /Users/mayabikmetova/xmas/hacka-aka-embedika/docs/453b2cb6e4ba7b8d1a8382773880d313.docx\n",
      "Обрабатывается файл  /Users/mayabikmetova/xmas/hacka-aka-embedika/docs/2b408919fd9833dc3f6892aad753f21f.docx\n",
      "Обрабатывается файл  /Users/mayabikmetova/xmas/hacka-aka-embedika/docs/8540a7dccb3a9e4d0a1a2611e077ce9d.docx\n",
      "Обрабатывается файл  /Users/mayabikmetova/xmas/hacka-aka-embedika/docs/66ee9b692a6b9c690564c92121a76b15.docx\n",
      "Обрабатывается файл  /Users/mayabikmetova/xmas/hacka-aka-embedika/docs/508bdc1406af695fd7ab1f22b69b9857.docx\n",
      "Обрабатывается файл  /Users/mayabikmetova/xmas/hacka-aka-embedika/docs/981d5a0ebbecffa588848251d0750fec.docx\n",
      "Обрабатывается файл  /Users/mayabikmetova/xmas/hacka-aka-embedika/docs/3031ff9bc88ad88532311b419267c875.docx\n",
      "Обрабатывается файл  /Users/mayabikmetova/xmas/hacka-aka-embedika/docs/e6a90919eab84ecbbdca11016c37b3a9.docx\n",
      "Обрабатывается файл  /Users/mayabikmetova/xmas/hacka-aka-embedika/docs/a0e06a957c1a729fe1d978605680e2ae.docx\n",
      "Обрабатывается файл  /Users/mayabikmetova/xmas/hacka-aka-embedika/docs/a7966d0674c94a6e752e3a5832edb2a9.docx\n",
      "Обрабатывается файл  /Users/mayabikmetova/xmas/hacka-aka-embedika/docs/8ee681886de97951748528c7c78d03a7.docx\n",
      "Обрабатывается файл  /Users/mayabikmetova/xmas/hacka-aka-embedika/docs/b303afea664ed05cdbc73a8c3b31b09d.docx\n",
      "Start tag expected, '<' not found, line 1, column 1 (<string>, line 1)\n",
      "Обрабатывается файл  /Users/mayabikmetova/xmas/hacka-aka-embedika/docs/03a70fe60be9ecc2a63798a361fc9689.docx\n",
      "Обрабатывается файл  /Users/mayabikmetova/xmas/hacka-aka-embedika/docs/c3141b7956167ce3987b82beb6cf73c4.docx\n",
      "Обрабатывается файл  /Users/mayabikmetova/xmas/hacka-aka-embedika/docs/a40a0347f0a91f2537ccc67c46d883b7.docx\n",
      "Обрабатывается файл  /Users/mayabikmetova/xmas/hacka-aka-embedika/docs/2b25ecf601a9ce0c2a33c8e1d9746df2.docx\n",
      "Обрабатывается файл  /Users/mayabikmetova/xmas/hacka-aka-embedika/docs/ef140e96384a29057445d0a889f1ad50.docx\n",
      "Обрабатывается файл  /Users/mayabikmetova/xmas/hacka-aka-embedika/docs/bdfb262c00991dddebfc5d4a87604284.docx\n",
      "Обрабатывается файл  /Users/mayabikmetova/xmas/hacka-aka-embedika/docs/3588ff6fb8f5c5a5f70196500198ca3a.docx\n",
      "Обрабатывается файл  /Users/mayabikmetova/xmas/hacka-aka-embedika/docs/123c9dd7b2736589f1f286d2112bc4eb.docx\n",
      "Обрабатывается файл  /Users/mayabikmetova/xmas/hacka-aka-embedika/docs/cf89a65d4477656ec05262ae55bb6aaa.docx\n",
      "Обрабатывается файл  /Users/mayabikmetova/xmas/hacka-aka-embedika/docs/616d4446e85de23f29337a6e089c67cb.docx\n",
      "Обрабатывается файл  /Users/mayabikmetova/xmas/hacka-aka-embedika/docs/2d4708c800dc003466fa9a8a64e2e2b7.docx\n",
      "Start tag expected, '<' not found, line 1, column 1 (<string>, line 1)\n",
      "Обрабатывается файл  /Users/mayabikmetova/xmas/hacka-aka-embedika/docs/82e5f04228e8d6768de9e4a4c565e89f.docx\n",
      "Обрабатывается файл  /Users/mayabikmetova/xmas/hacka-aka-embedika/docs/317dc2690741c169db9dc901ff5a3258.docx\n",
      "Start tag expected, '<' not found, line 1, column 1 (<string>, line 1)\n",
      "Обрабатывается файл  /Users/mayabikmetova/xmas/hacka-aka-embedika/docs/5e9754740f6c89a96cf5996404ec3c27.docx\n",
      "Обрабатывается файл  /Users/mayabikmetova/xmas/hacka-aka-embedika/docs/855c8450351c98a25ea2ac22a0256c7f.docx\n",
      "Обрабатывается файл  /Users/mayabikmetova/xmas/hacka-aka-embedika/docs/a8a9861b63d26f13f0f10a075158b6da.docx\n",
      "Обрабатывается файл  /Users/mayabikmetova/xmas/hacka-aka-embedika/docs/58c8976ca35aa805aa9d21246d5d18ee.docx\n",
      "Обрабатывается файл  /Users/mayabikmetova/xmas/hacka-aka-embedika/docs/7e0cf1019baa9e1cdabcfc06d522d424.docx\n",
      "Обрабатывается файл  /Users/mayabikmetova/xmas/hacka-aka-embedika/docs/242b138fd2025b7a5207876098355e03.docx\n",
      "Обрабатывается файл  /Users/mayabikmetova/xmas/hacka-aka-embedika/docs/e6a6d61368866475f346f078cf2cbe60.docx\n",
      "Обрабатывается файл  /Users/mayabikmetova/xmas/hacka-aka-embedika/docs/dda3ea2dc3a078682620f926a54aa0bf.docx\n",
      "Обрабатывается файл  /Users/mayabikmetova/xmas/hacka-aka-embedika/docs/97d4cf03b88c9e040557ab1b61e2e7a2.docx\n",
      "Обрабатывается файл  /Users/mayabikmetova/xmas/hacka-aka-embedika/docs/f3734851311f2a7ac6c66ad7ccbe1d2c.docx\n",
      "Обрабатывается файл  /Users/mayabikmetova/xmas/hacka-aka-embedika/docs/99a11e3e403b7c8b0773108a84839517.docx\n",
      "Обрабатывается файл  /Users/mayabikmetova/xmas/hacka-aka-embedika/docs/084edc7dfc3db04e3a3c55c102f47bcb.docx\n",
      "Обрабатывается файл  /Users/mayabikmetova/xmas/hacka-aka-embedika/docs/15e3d16cf68646b3383d386aae2a6849.docx\n",
      "Обрабатывается файл  /Users/mayabikmetova/xmas/hacka-aka-embedika/docs/073a0d372820c3c2bffe9ba24a7ed7af.docx\n",
      "Обрабатывается файл  /Users/mayabikmetova/xmas/hacka-aka-embedika/docs/2054a58154349bc54b691666fe3f89b1.pdf\n",
      "Обрабатывается файл  /Users/mayabikmetova/xmas/hacka-aka-embedika/docs/5262e9c377c3ab1f6b8141762cca69ad.docx\n",
      "Обрабатывается файл  /Users/mayabikmetova/xmas/hacka-aka-embedika/docs/4a5707e447271a188a1211606b158a94.pdf\n",
      "Обрабатывается файл  /Users/mayabikmetova/xmas/hacka-aka-embedika/docs/91ba127aad1b88905603ecc3aacac0d1.docx\n",
      "Обрабатывается файл  /Users/mayabikmetova/xmas/hacka-aka-embedika/docs/abcec818adbe358f8071a75e0fe2cc49.pdf\n",
      "Обрабатывается файл  /Users/mayabikmetova/xmas/hacka-aka-embedika/docs/137eaaa047f557233943012897e46cec.docx\n",
      "Обрабатывается файл  /Users/mayabikmetova/xmas/hacka-aka-embedika/docs/a2f8675b6d37b6af819ca3fdbb0e3432.pdf\n",
      "Обрабатывается файл  /Users/mayabikmetova/xmas/hacka-aka-embedika/docs/31d24c0d4694e7c2fb19933b84414b40.docx\n",
      "Обрабатывается файл  /Users/mayabikmetova/xmas/hacka-aka-embedika/docs/8c5ce9a193c788cadf94ddec5607f3b4.docx\n",
      "Обрабатывается файл  /Users/mayabikmetova/xmas/hacka-aka-embedika/docs/86d6d0062e91651ccc3d3ce35b162bf8.docx\n",
      "Обрабатывается файл  /Users/mayabikmetova/xmas/hacka-aka-embedika/docs/086ad48895d2a73854b6151decc28800.pdf\n",
      "Обрабатывается файл  /Users/mayabikmetova/xmas/hacka-aka-embedika/docs/bd9b731375abcdb9969af05ec9fb03fa.docx\n",
      "Обрабатывается файл  /Users/mayabikmetova/xmas/hacka-aka-embedika/docs/a543a2a59bd604ad1224040b14844b49.docx\n",
      "Обрабатывается файл  /Users/mayabikmetova/xmas/hacka-aka-embedika/docs/34f5456e56beb78b311728f738167d3a.docx\n",
      "Обрабатывается файл  /Users/mayabikmetova/xmas/hacka-aka-embedika/docs/ff6882cb4a3ec31dec18a94e1d1745b1.docx\n",
      "Обрабатывается файл  /Users/mayabikmetova/xmas/hacka-aka-embedika/docs/c7a0230f5a8e1cbe7a6bec435b71a43c.docx\n",
      "Обрабатывается файл  /Users/mayabikmetova/xmas/hacka-aka-embedika/docs/f57fe87f15a6dee2b17e804421be63b5.pdf\n"
     ]
    },
    {
     "name": "stdout",
     "output_type": "stream",
     "text": [
      "Обрабатывается файл  /Users/mayabikmetova/xmas/hacka-aka-embedika/docs/1ea8809d696a4bd6a2076fbc6fd28c23.docx\n",
      "Обрабатывается файл  /Users/mayabikmetova/xmas/hacka-aka-embedika/docs/57962abd8dbe0ce0c7056896ee4501f1.docx\n",
      "Обрабатывается файл  /Users/mayabikmetova/xmas/hacka-aka-embedika/docs/2c81df29db63aebf495106881a52188f.docx\n",
      "Обрабатывается файл  /Users/mayabikmetova/xmas/hacka-aka-embedika/docs/0ca2f9faecdbc67d6686a9f5b6636eba.docx\n",
      "CPU times: user 20.4 s, sys: 707 ms, total: 21.1 s\n",
      "Wall time: 22.3 s\n"
     ]
    }
   ],
   "source": [
    "%%time\n",
    "\n",
    "labels['source_text'] = labels['abs_path'].apply(extract_text)"
   ]
  },
  {
   "cell_type": "code",
   "execution_count": 238,
   "id": "44bb6d8d",
   "metadata": {},
   "outputs": [
    {
     "name": "stdout",
     "output_type": "stream",
     "text": [
      "Обрабатывается файл  /Users/mayabikmetova/xmas/hacka-aka-embedika/docs/18d573815c15b4e798bdfbfb52fb2f43.docx\n",
      "Start tag expected, '<' not found, line 1, column 1 (<string>, line 1)\n"
     ]
    }
   ],
   "source": [
    "# битый файл??? посмотреть позже, если будет время.\n",
    "# XMLSyntaxError: Start tag expected, '<' not found, line 1, column 1 (<string>, line 1)\n",
    "\n",
    "# extract_text('/Users/mayabikmetova/xmas/hacka-aka-embedika/docs/18d573815c15b4e798bdfbfb52fb2f43.docx')"
   ]
  },
  {
   "cell_type": "code",
   "execution_count": 255,
   "id": "85290774",
   "metadata": {},
   "outputs": [
    {
     "data": {
      "text/plain": [
       "array([None], dtype=object)"
      ]
     },
     "execution_count": 255,
     "metadata": {},
     "output_type": "execute_result"
    }
   ],
   "source": [
    "labels[labels['filename']=='18d573815c15b4e798bdfbfb52fb2f43.docx']['source_text'].values"
   ]
  },
  {
   "cell_type": "code",
   "execution_count": 258,
   "id": "82f5b50e",
   "metadata": {},
   "outputs": [
    {
     "data": {
      "text/html": [
       "<div>\n",
       "<style scoped>\n",
       "    .dataframe tbody tr th:only-of-type {\n",
       "        vertical-align: middle;\n",
       "    }\n",
       "\n",
       "    .dataframe tbody tr th {\n",
       "        vertical-align: top;\n",
       "    }\n",
       "\n",
       "    .dataframe thead th {\n",
       "        text-align: right;\n",
       "    }\n",
       "</style>\n",
       "<table border=\"1\" class=\"dataframe\">\n",
       "  <thead>\n",
       "    <tr style=\"text-align: right;\">\n",
       "      <th></th>\n",
       "      <th>filename</th>\n",
       "      <th>class</th>\n",
       "      <th>extension</th>\n",
       "      <th>abs_path</th>\n",
       "      <th>source_text</th>\n",
       "    </tr>\n",
       "  </thead>\n",
       "  <tbody>\n",
       "    <tr>\n",
       "      <th>25</th>\n",
       "      <td>18d573815c15b4e798bdfbfb52fb2f43.docx</td>\n",
       "      <td>Услуги</td>\n",
       "      <td>docx</td>\n",
       "      <td>/Users/mayabikmetova/xmas/hacka-aka-embedika/d...</td>\n",
       "      <td>None</td>\n",
       "    </tr>\n",
       "    <tr>\n",
       "      <th>71</th>\n",
       "      <td>b303afea664ed05cdbc73a8c3b31b09d.docx</td>\n",
       "      <td>Подряд</td>\n",
       "      <td>docx</td>\n",
       "      <td>/Users/mayabikmetova/xmas/hacka-aka-embedika/d...</td>\n",
       "      <td>None</td>\n",
       "    </tr>\n",
       "    <tr>\n",
       "      <th>82</th>\n",
       "      <td>2d4708c800dc003466fa9a8a64e2e2b7.docx</td>\n",
       "      <td>Аренда</td>\n",
       "      <td>docx</td>\n",
       "      <td>/Users/mayabikmetova/xmas/hacka-aka-embedika/d...</td>\n",
       "      <td>None</td>\n",
       "    </tr>\n",
       "    <tr>\n",
       "      <th>84</th>\n",
       "      <td>317dc2690741c169db9dc901ff5a3258.docx</td>\n",
       "      <td>Аренда</td>\n",
       "      <td>docx</td>\n",
       "      <td>/Users/mayabikmetova/xmas/hacka-aka-embedika/d...</td>\n",
       "      <td>None</td>\n",
       "    </tr>\n",
       "  </tbody>\n",
       "</table>\n",
       "</div>"
      ],
      "text/plain": [
       "                                 filename   class extension  \\\n",
       "25  18d573815c15b4e798bdfbfb52fb2f43.docx  Услуги      docx   \n",
       "71  b303afea664ed05cdbc73a8c3b31b09d.docx  Подряд      docx   \n",
       "82  2d4708c800dc003466fa9a8a64e2e2b7.docx  Аренда      docx   \n",
       "84  317dc2690741c169db9dc901ff5a3258.docx  Аренда      docx   \n",
       "\n",
       "                                             abs_path source_text  \n",
       "25  /Users/mayabikmetova/xmas/hacka-aka-embedika/d...        None  \n",
       "71  /Users/mayabikmetova/xmas/hacka-aka-embedika/d...        None  \n",
       "82  /Users/mayabikmetova/xmas/hacka-aka-embedika/d...        None  \n",
       "84  /Users/mayabikmetova/xmas/hacka-aka-embedika/d...        None  "
      ]
     },
     "execution_count": 258,
     "metadata": {},
     "output_type": "execute_result"
    }
   ],
   "source": [
    "# распознать текст битых доков позже\n",
    "labels[labels['source_text'].isin([None])]"
   ]
  },
  {
   "cell_type": "code",
   "execution_count": 260,
   "id": "932d5dcf",
   "metadata": {},
   "outputs": [],
   "source": [
    "data = labels[~labels['source_text'].isin([None])]"
   ]
  },
  {
   "cell_type": "code",
   "execution_count": null,
   "id": "e255c9fb",
   "metadata": {},
   "outputs": [],
   "source": [
    "%%time\n",
    "data['lemma_text'] = data['source_text'].apply(preprocess)"
   ]
  },
  {
   "cell_type": "code",
   "execution_count": null,
   "id": "d91def25",
   "metadata": {},
   "outputs": [],
   "source": []
  },
  {
   "cell_type": "code",
   "execution_count": null,
   "id": "8230db82",
   "metadata": {},
   "outputs": [],
   "source": []
  },
  {
   "cell_type": "code",
   "execution_count": null,
   "id": "586a3ba0",
   "metadata": {},
   "outputs": [],
   "source": []
  },
  {
   "cell_type": "code",
   "execution_count": null,
   "id": "cc6a6dd7",
   "metadata": {},
   "outputs": [],
   "source": []
  },
  {
   "cell_type": "code",
   "execution_count": null,
   "id": "d90b6aa4",
   "metadata": {},
   "outputs": [],
   "source": []
  }
 ],
 "metadata": {
  "kernelspec": {
   "display_name": "Python 3 (ipykernel)",
   "language": "python",
   "name": "python3"
  },
  "language_info": {
   "codemirror_mode": {
    "name": "ipython",
    "version": 3
   },
   "file_extension": ".py",
   "mimetype": "text/x-python",
   "name": "python",
   "nbconvert_exporter": "python",
   "pygments_lexer": "ipython3",
   "version": "3.9.12"
  }
 },
 "nbformat": 4,
 "nbformat_minor": 5
}
